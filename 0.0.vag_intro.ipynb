{
 "cells": [
  {
   "cell_type": "markdown",
   "id": "6fc6e0bf-1b6a-4eb4-96a0-6962867142e1",
   "metadata": {},
   "source": [
    "### Paper 1\n",
    "distinction between asymptomatic and non-healthy knees\n",
    "vi-brations or acoustic signals emitted from the knee joint during active movement\n",
    "symptomatic knees exhibit an overall higher energy\n",
    "\n",
    "Observation of the frequency domain also revealed distinctions in the activity range, where normal signals generally expressed characteristics between 0–100 Hz. This range was considerably lower than that of pathological signals which extended beyond 200 Hz \n",
    "This was also supported by the findings by\n",
    "McCoy et al., who found signals associated with degener-\n",
    "ation of articular cartilage to be bizarre and irregular, predominantly in the range of 300–600 Hz\n",
    "\n",
    "15 reps of flexion extension - 3-5 seconds to complete. \n",
    "segment the flex and extension phases -> list of flexions / list of extensions.  The segmentation is done via the angular peaks.\n",
    "\n",
    "the power spectra of all extension or flexion cycles in a measurement were calculated, normalized and then averaged. To facilitate averaging, power spectra of 3.9 Hz/bin resolution were estimated using Welch’s method using a Hann window with a segment length of 4096 samples and 50 percent overlap. The estimated power spectra of each cycle first normalized so that their power between 10 and 8000 Hz\n",
    "was one and then averaged."
   ]
  },
  {
   "cell_type": "markdown",
   "id": "e7c01b32-32e1-4354-88c9-ebbad4817cba",
   "metadata": {
    "jp-MarkdownHeadingCollapsed": true
   },
   "source": [
    "### Paper 4\n",
    "\n",
    "The power spectrum was computed using FFT and the percentage of each 50 Hz band from 100 to 1khz based on integral power spectrum values\n",
    "\n",
    "e.g the sum of 100-150 integral power spectrum values was divided by the sum of the 100-1khz integral power spectrum values and expressed as a percentage\n",
    "\n",
    "interpretation:\n",
    "\n",
    "Integral Power Spectrum Values: For each frequency band, you sum the power spectrum values that fall within that band. This sum gives you the total power within that specific band.\n",
    "\n",
    "band pass filter used 100-1khz\n",
    "\n",
    "each rep has a total power and then they are ordered from low to high\n",
    "the two reps with the max and the two reps with the low were kept for the final analysis\n",
    "\n",
    "The percent of the 100-150Hz and 150-200Hz power spectrum zones in max-VAG were signiﬁcantly positively correlated with the KL classiﬁcation (r¼0.54 and 0.51; Table 2). Several zones above 450 Hz were negatively correlated.\n",
    "\n",
    "Higher KL classiﬁcations were related to increased percentages of the frequency\n",
    "component in the 100-150Hz and 150-200Hz zones and decreased\n",
    "percentages of the frequency component in the above 450 zones"
   ]
  },
  {
   "cell_type": "markdown",
   "id": "4ca89b0c-7658-4ba5-8cec-4332dedf778a",
   "metadata": {},
   "source": [
    "### Paper 5\n",
    "\n",
    "examined the FFT response of the signals\n",
    "energy of the signal higher in patients \n",
    "power spectra computed for each signal (rep)\n",
    "\n",
    "Features F1 and F2 are normalised ranges. \n",
    "F1 = power between 0-150 / 500-550\n",
    "F2 = power between 0-150 / 3000 - 3050\n",
    "\n",
    "F2 seemed to be the best feature to discriminate\n"
   ]
  },
  {
   "cell_type": "markdown",
   "id": "31b5d947-a22f-4e44-be5e-a67e45c97d39",
   "metadata": {},
   "source": [
    "### Additional papers\n",
    "\n",
    "https://pubmed.ncbi.nlm.nih.gov/24431252/ -> total spectral power density in the 50-250 Hz (P1) and 250-450 Hz (P2) ranges.\n",
    "AG signals in the dysfunctional groups were characterized by higher variability, amplitude and frequency than was the case in the control groups. \n",
    "\n",
    "https://content.iospress.com/articles/journal-of-back-and-musculoskeletal-rehabilitation/bmr00319\n",
    "\n",
    "In order to minimize the effect of the variation in the knee angular velocity on the frequency\n",
    "characteristics of the VAG signals, the signals obtained during one motion cycle can be segmented\n",
    "according to the recorded knee joint angle. This technique is also useful for the extraction of the\n",
    "segments that are less affected by noise.\n",
    "\n"
   ]
  },
  {
   "cell_type": "markdown",
   "id": "0df972e8-8768-42cd-9a71-f9d5b8f40597",
   "metadata": {},
   "source": [
    "### VAG Techniques to test\n",
    "\n",
    "1. obtain flexion and extension -> 5 reps (clinical use)\n",
    "2. possibly segement into flexion and extension phases\n",
    "\n",
    "### typical techniques\n",
    "\n",
    "flexion / extension of the knee from a seated position with legs hanging\n",
    "5-10 reps done at a pre set speed (metrononme) 2 seconds or so up and then 2 seconds or so down\n",
    "\n",
    "1. filter signal 100Hz - MAX (1Khz)\n",
    "2. FFT and power spectra\n",
    "\n",
    "### simple version (based on paper 4)\n",
    "\n",
    "basic steps to observe the VAG signals.  I\n",
    "\n",
    "t is suggested to perform 5 reps with the sensor positioned on the patella and each side of the patella.\n",
    "\n",
    "Potentially removing the the max and min power spectrum reps. At first include all reps - maybe remove the first / last rep as it includes a starting effort and an ending effort\n",
    "\n",
    "1. obtain the signal via start and stop in 3D\n",
    "2. compute the vector magnitdude\n",
    "3. band pass filter the signal between 100-1khz (or higher since we have 5Khz) to remove muscle artifacts <100 Hz\n",
    "4. compute the fft of the complete signal\n",
    "5. compute the power spectrum of the complete signal\n",
    "6. express each 50hz band as a percentage of the total\n",
    " \n",
    "### version based on paper 5\n",
    "1. as an extension of the above maybe compute F2 (although this includes signal below 100Hz which is typically removed in the acclerometer versions\n",
    "\n",
    "### additions\n",
    "\n",
    "1. consider each axis independently. Despite flexion and extension occuring primarily in the saggital plance there may be signal in the other planes that differ\n",
    "2. consider STFT as an approach to obtain the frequency domain\n",
    "3. The Wigner-Ville distribution (WVD) is a tool used in time-frequency analysis to represent the signal's energy distribution over time and frequency. It's particularly useful for analyzing non-stationary signals.\n",
    "4. WT is consider a better technique to WVD\n",
    "5. The major advantage of the WPT approach over the WT is that the latter only decomposes the\n",
    "low-frequency components of the intermediate signals at each node while the WPT decomposes\n",
    "not only the low but also the high-frequency components of all signals"
   ]
  },
  {
   "cell_type": "code",
   "execution_count": null,
   "id": "f8c74f56-5f21-44a8-a1f9-6016759632b6",
   "metadata": {},
   "outputs": [],
   "source": []
  }
 ],
 "metadata": {
  "kernelspec": {
   "display_name": "Python 3 (ipykernel)",
   "language": "python",
   "name": "python3"
  },
  "language_info": {
   "codemirror_mode": {
    "name": "ipython",
    "version": 3
   },
   "file_extension": ".py",
   "mimetype": "text/x-python",
   "name": "python",
   "nbconvert_exporter": "python",
   "pygments_lexer": "ipython3",
   "version": "3.10.12"
  }
 },
 "nbformat": 4,
 "nbformat_minor": 5
}
