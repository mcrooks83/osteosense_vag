{
 "cells": [
  {
   "cell_type": "markdown",
   "id": "19a59e8f-a3c1-423f-a173-cf6e1a7b7407",
   "metadata": {},
   "source": [
    "# Knee Joint Vibroarthrographic Signal Processing and Analysis\n",
    "\n"
   ]
  },
  {
   "cell_type": "markdown",
   "id": "13f31f94-3bbc-4eaa-8b0e-0a9cdb0f29d7",
   "metadata": {},
   "source": [
    "## Chapter 1 - Introduction\n",
    "\n",
    "### Knee Joint Anatomy\n",
    "\n",
    "- 3 articulating bones, femur, patella, tibia\n",
    "- femoral condyles are the two parts at the end of the femur\n",
    "\n",
    "- 3 functional components - patellofemoral articulation, lateral femorotibial articulation and medial femorotibial articulation\n",
    "- synovial gliding joint and 2x synovial hinge joint\n",
    "\n",
    "\n",
    "**ligaments**\n",
    "\n",
    "- (MCL, LCL)\n",
    "- ACL -> resist anterior translation and medial rotation\n",
    "- PCL\n",
    "\n",
    "**Articular Cartilage**\n",
    "c- ushion impact of the knee during locomotion and \"bouncing\"\n",
    "- consists of type 2 collagen and (aggrecan)\n",
    "\n",
    "### Biomechanics of the Knee\n",
    "\n",
    "flexion / extension -> internal / external rotation is often coupled with translation\n",
    "\n",
    "### Knee Joint Disorders\n",
    "\n",
    "- Chondromalacisa patellae has been considered a pre curser to OA\n",
    "- charcterized by swelling with superabundant water contents and softening due to the reduction of proteoglycan\n",
    "- classified by 4 progressive stages (grade 1-4)\n",
    "- "
   ]
  },
  {
   "cell_type": "markdown",
   "id": "7dd3f9ec-8dbb-4772-8979-1c0aa44b520c",
   "metadata": {},
   "source": [
    "Kellgren lawrence Scale - 5 grades\n",
    "\n",
    "- 0-1 normal and doubtful\n",
    "- 2 - presence of mild\n",
    "- 3 - presence of moderate\n",
    "- 4 - severe "
   ]
  },
  {
   "cell_type": "markdown",
   "id": "ccf7df93-cc14-45ab-8301-a2984f7272f5",
   "metadata": {},
   "source": [
    "### Signal Aquistion and Preprocessing\n",
    "\n",
    "raw time series -> filters\n",
    "\n",
    "removal of artifacts including baseline wander, random noise, periodical power line interference\n",
    "\n",
    "taped to patella, middle of the patella, lateral / medial condyle of the tibia by using two sided adhesive tapes\n",
    "\n",
    "to remove baseline wander a cascade moving average filter is used and then subracted from the signal\n"
   ]
  },
  {
   "cell_type": "markdown",
   "id": "4dbe6b7b-ac21-4ced-90ff-11ac1d4b7c85",
   "metadata": {},
   "source": [
    "Form Factor (FF)\n",
    "activity = varience of the given signal\n",
    "mobility = square root of the ratio of the varience of 1st derivative / varience of original signal \n",
    "\n",
    "FF = mobilitiy of the first derivative (i.e first derivative is the original signal in this case) / mobility of the original signal\n",
    "pg 36.\n",
    "\n",
    "varience of the mean square\n",
    "non overlapping fixed duration segments of 5ms each\n",
    "vag sginal sampled at 2khz fixed length involves 10 samples\n"
   ]
  }
 ],
 "metadata": {
  "kernelspec": {
   "display_name": "Python 3 (ipykernel)",
   "language": "python",
   "name": "python3"
  },
  "language_info": {
   "codemirror_mode": {
    "name": "ipython",
    "version": 3
   },
   "file_extension": ".py",
   "mimetype": "text/x-python",
   "name": "python",
   "nbconvert_exporter": "python",
   "pygments_lexer": "ipython3",
   "version": "3.10.12"
  }
 },
 "nbformat": 4,
 "nbformat_minor": 5
}
