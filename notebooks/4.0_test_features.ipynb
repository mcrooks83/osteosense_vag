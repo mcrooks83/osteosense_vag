{
 "cells": [
  {
   "cell_type": "code",
   "execution_count": 6,
   "id": "04af033c-0ca4-49c1-9ed6-b62ee8a46bc7",
   "metadata": {},
   "outputs": [],
   "source": [
    "from __future__ import division\n",
    "import pandas as pd\n",
    "import numpy as np\n",
    "import logging\n",
    "import math\n",
    "import time\n",
    "import statistics as stats\n",
    "import json\n",
    "from datetime import datetime, timedelta\n",
    "import os, sys\n",
    "import matplotlib.pyplot as plt\n",
    "import glob"
   ]
  },
  {
   "cell_type": "code",
   "execution_count": 7,
   "id": "bdc5f5ab-000d-4a5c-a005-02f94ae33ff3",
   "metadata": {},
   "outputs": [
    {
     "name": "stdout",
     "output_type": "stream",
     "text": [
      "   STATE        FD    FD_EXT    FD_FLX       VMS   VMS_EXT   VMS_FLX  \\\n",
      "0      1  1.466570  1.775843  1.820782  0.025042  0.019168  0.029947   \n",
      "1      1  1.766607  1.627739  1.922575  0.004414  0.003966  0.003024   \n",
      "2      1  1.744344  1.869978  2.031547  0.003247  0.001370  0.004936   \n",
      "3      1  2.287178  2.038849  2.328853  0.000181  0.000233  0.000093   \n",
      "4      1  1.343740  1.526733  1.595508  0.010186  0.006659  0.003177   \n",
      "\n",
      "           LI      LI_EXT      LI_FLX  \n",
      "0  889.089284  614.701096  674.587386  \n",
      "1  631.959945  454.240634  460.176026  \n",
      "2  404.492380  217.192115  337.943733  \n",
      "3  261.686751  252.636066   63.201615  \n",
      "4  268.935033  199.078012  181.254098  \n"
     ]
    }
   ],
   "source": [
    "feature_file_path = \"features/vag_features.csv\"\n",
    "\n",
    "f_df = pd.read_csv(feature_file_path)\n",
    "print(f_df.head())"
   ]
  },
  {
   "cell_type": "code",
   "execution_count": 16,
   "id": "f68e5af2-3d0f-4e0c-bb90-1ed4f25b6fa4",
   "metadata": {},
   "outputs": [],
   "source": [
    "#!pip install scikit-learn \n",
    "from sklearn.metrics import roc_auc_score\n",
    "from sklearn.model_selection import train_test_split"
   ]
  },
  {
   "cell_type": "code",
   "execution_count": 17,
   "id": "d3532c8e-c439-4698-8c76-d46477e9095f",
   "metadata": {},
   "outputs": [],
   "source": [
    "features = f_df.drop('STATE', axis=1)\n",
    "labels = f_df['STATE']"
   ]
  },
  {
   "cell_type": "code",
   "execution_count": null,
   "id": "dc04d1d8-3379-428b-afc4-03dcfcd14b70",
   "metadata": {},
   "outputs": [],
   "source": []
  },
  {
   "cell_type": "code",
   "execution_count": 18,
   "id": "a1686b85-8f75-4be5-9663-40e5224ac848",
   "metadata": {},
   "outputs": [
    {
     "name": "stdout",
     "output_type": "stream",
     "text": [
      "AUC (Az) Value for FD: 0.6573\n",
      "AUC (Az) Value for FD_EXT: 0.6142\n",
      "AUC (Az) Value for FD_FLX: 0.7478\n",
      "AUC (Az) Value for VMS: 0.2543\n",
      "AUC (Az) Value for VMS_EXT: 0.2996\n",
      "AUC (Az) Value for VMS_FLX: 0.1983\n",
      "AUC (Az) Value for LI: 0.4978\n",
      "AUC (Az) Value for LI_EXT: 0.5000\n",
      "AUC (Az) Value for LI_FLX: 0.4784\n"
     ]
    }
   ],
   "source": [
    "X_train, X_test, y_train, y_test = train_test_split(features, labels, test_size=0.5, random_state=42)\n",
    "\n",
    "auc_values = {}\n",
    "\n",
    "for feature in features.columns:\n",
    "    feature_train = X_train[feature]\n",
    "    feature_test = X_test[feature]\n",
    "    \n",
    "    # Compute the AUC for the feature\n",
    "    auc_value = roc_auc_score(y_test, feature_test)\n",
    "    auc_values[feature] = auc_value\n",
    "\n",
    "# Print the AUC values for each feature\n",
    "for feature, auc in auc_values.items():\n",
    "    print(f'AUC (Az) Value for {feature}: {auc:.4f}')"
   ]
  },
  {
   "cell_type": "code",
   "execution_count": null,
   "id": "795ed67d-4bd1-4891-86d8-9ca6fa675eb4",
   "metadata": {},
   "outputs": [],
   "source": []
  },
  {
   "cell_type": "code",
   "execution_count": null,
   "id": "0bd6552a-4cd8-493c-9bf3-fecc3ce3a579",
   "metadata": {},
   "outputs": [],
   "source": []
  }
 ],
 "metadata": {
  "kernelspec": {
   "display_name": "Python 3 (ipykernel)",
   "language": "python",
   "name": "python3"
  },
  "language_info": {
   "codemirror_mode": {
    "name": "ipython",
    "version": 3
   },
   "file_extension": ".py",
   "mimetype": "text/x-python",
   "name": "python",
   "nbconvert_exporter": "python",
   "pygments_lexer": "ipython3",
   "version": "3.10.12"
  }
 },
 "nbformat": 4,
 "nbformat_minor": 5
}
