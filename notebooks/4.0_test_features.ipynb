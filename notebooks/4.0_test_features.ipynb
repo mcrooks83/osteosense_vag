{
 "cells": [
  {
   "cell_type": "code",
   "execution_count": 1,
   "id": "04af033c-0ca4-49c1-9ed6-b62ee8a46bc7",
   "metadata": {},
   "outputs": [],
   "source": [
    "from __future__ import division\n",
    "import pandas as pd\n",
    "import numpy as np\n",
    "import logging\n",
    "import math\n",
    "import time\n",
    "import statistics as stats\n",
    "import json\n",
    "from datetime import datetime, timedelta\n",
    "import os, sys\n",
    "import matplotlib.pyplot as plt\n",
    "import glob"
   ]
  },
  {
   "cell_type": "code",
   "execution_count": 2,
   "id": "bdc5f5ab-000d-4a5c-a005-02f94ae33ff3",
   "metadata": {},
   "outputs": [
    {
     "name": "stdout",
     "output_type": "stream",
     "text": [
      "   STATE        FD    FD_EXT    FD_FLX       VMS   VMS_EXT   VMS_FLX  \\\n",
      "0      1  1.466570  1.775843  1.820782  0.025042  0.019168  0.029947   \n",
      "1      1  1.766607  1.627739  1.922575  0.004414  0.003966  0.003024   \n",
      "2      1  1.744344  1.869978  2.031547  0.003247  0.001370  0.004936   \n",
      "3      1  2.287178  2.038849  2.328853  0.000181  0.000233  0.000093   \n",
      "4      1  1.343740  1.526733  1.595508  0.010186  0.006659  0.003177   \n",
      "\n",
      "           LI      LI_EXT      LI_FLX  \n",
      "0  889.089284  159.510675  184.021034  \n",
      "1  631.959945  117.458492  114.770158  \n",
      "2  404.492380   50.910125   95.774558  \n",
      "3  261.686751  141.155890   23.514829  \n",
      "4  268.935033   80.879692   60.233316  \n"
     ]
    }
   ],
   "source": [
    "feature_file_path = \"features/vag_features.csv\"\n",
    "\n",
    "f_df = pd.read_csv(feature_file_path)\n",
    "print(f_df.head())"
   ]
  },
  {
   "cell_type": "code",
   "execution_count": 9,
   "id": "f68e5af2-3d0f-4e0c-bb90-1ed4f25b6fa4",
   "metadata": {},
   "outputs": [],
   "source": [
    "#!pip install scikit-learn \n",
    "from sklearn.metrics import roc_auc_score\n",
    "from sklearn.model_selection import train_test_split\n",
    "from sklearn.metrics import accuracy_score\n",
    "from sklearn.discriminant_analysis import LinearDiscriminantAnalysis as LDA\n",
    "from sklearn.svm import SVC"
   ]
  },
  {
   "cell_type": "code",
   "execution_count": 10,
   "id": "d3532c8e-c439-4698-8c76-d46477e9095f",
   "metadata": {},
   "outputs": [],
   "source": [
    "features = f_df.drop('STATE', axis=1)\n",
    "y = f_df['STATE']"
   ]
  },
  {
   "cell_type": "code",
   "execution_count": 11,
   "id": "dc04d1d8-3379-428b-afc4-03dcfcd14b70",
   "metadata": {},
   "outputs": [
    {
     "name": "stdout",
     "output_type": "stream",
     "text": [
      "Feature    AUC      Accuracy\n",
      "\n",
      "FD         0.657    0.622   \n",
      "FD_EXT     0.614    0.556   \n",
      "FD_FLX     0.252    0.333   \n",
      "VMS        0.746    0.711   \n",
      "VMS_EXT    0.700    0.644   \n",
      "VMS_FLX    0.802    0.733   \n",
      "LI         0.498    0.467   \n",
      "LI_EXT     0.506    0.533   \n",
      "LI_FLX     0.470    0.489   \n"
     ]
    }
   ],
   "source": [
    "model_results = {}\n",
    "\n",
    "for f in features.columns:\n",
    "    X = f_df[[f]]\n",
    "    \n",
    "    # Split the data into training and testing sets\n",
    "    X_train, X_test, y_train, y_test = train_test_split(X, y, test_size=0.5, random_state=42)\n",
    "    \n",
    "    # Initialize LDA\n",
    "    lda = LDA()\n",
    "    \n",
    "    # Fit the model\n",
    "    lda.fit(X_train, y_train)\n",
    "    \n",
    "    # Transform the feature\n",
    "    X_train_lda = lda.transform(X_train)\n",
    "    X_test_lda = lda.transform(X_test)\n",
    "    \n",
    "    # Predict\n",
    "    y_pred = lda.predict(X_test)\n",
    "    # Predict the probabilities\n",
    "    y_probs = lda.predict_proba(X_test)[:, 1]  # Get the probability for the positive class\n",
    "    \n",
    "    # Evaluate the model\n",
    "    accuracy = accuracy_score(y_test, y_pred)\n",
    "    auc_value = roc_auc_score(y_test, y_probs)\n",
    "\n",
    "    model_results[f] = {\n",
    "        \"accuracy\": round(accuracy,3),\n",
    "        \"auc\": round(float(auc_value),3),\n",
    "        \"predicted\": y_pred,\n",
    "        \"actual\": y_test.values\n",
    "    }\n",
    "print(f\"{'Feature':<10} {'AUC':<8} {'Accuracy':<8}\")\n",
    "print()\n",
    "for key, value in model_results.items():\n",
    "    print(f\"{key:<10} {value['auc']:<8.3f} {value['accuracy']:<8.3f}\")"
   ]
  },
  {
   "cell_type": "code",
   "execution_count": 16,
   "id": "795ed67d-4bd1-4891-86d8-9ca6fa675eb4",
   "metadata": {},
   "outputs": [
    {
     "name": "stdout",
     "output_type": "stream",
     "text": [
      "Feature    AUC      Accuracy\n",
      "\n",
      "FD         0.615    0.600   \n",
      "FD_EXT     0.600    0.533   \n",
      "FD_FLX     0.245    0.700   \n",
      "VMS        0.690    0.700   \n",
      "VMS_EXT    0.700    0.633   \n",
      "VMS_FLX    0.740    0.700   \n",
      "LI         0.405    0.667   \n",
      "LI_EXT     0.655    0.633   \n",
      "LI_FLX     0.270    0.600   \n"
     ]
    }
   ],
   "source": [
    "svm_model_results = {}\n",
    "\n",
    "for f in features.columns:\n",
    "    X = f_df[[f]]\n",
    "    \n",
    "    # Split the data into training and testing sets\n",
    "    X_train, X_test, y_train, y_test = train_test_split(X, y, test_size=0.33, random_state=42)\n",
    "    \n",
    "    rbf_svm = SVC(kernel='rbf', probability=True, random_state=42)\n",
    "    rbf_svm.fit(X_train, y_train)\n",
    "\n",
    "    # Predict and evaluate\n",
    "    y_pred = rbf_svm.predict(X_test)\n",
    "    # Predict the probabilities\n",
    "    y_probs = rbf_svm.predict_proba(X_test)[:, 1]\n",
    "    \n",
    "    # Evaluate the model\n",
    "    accuracy = accuracy_score(y_test, y_pred)\n",
    "    auc_value = roc_auc_score(y_test, y_probs)\n",
    "\n",
    "    svm_model_results[f] = {\n",
    "        \"accuracy\": round(accuracy,3),\n",
    "        \"auc\": round(float(auc_value),3),\n",
    "    }\n",
    "print(f\"{'Feature':<10} {'AUC':<8} {'Accuracy':<8}\")\n",
    "print()\n",
    "for key, value in svm_model_results.items():\n",
    "    print(f\"{key:<10} {value['auc']:<8.3f} {value['accuracy']:<8.3f}\")"
   ]
  },
  {
   "cell_type": "code",
   "execution_count": null,
   "id": "0bd6552a-4cd8-493c-9bf3-fecc3ce3a579",
   "metadata": {},
   "outputs": [],
   "source": []
  }
 ],
 "metadata": {
  "kernelspec": {
   "display_name": "Python 3 (ipykernel)",
   "language": "python",
   "name": "python3"
  },
  "language_info": {
   "codemirror_mode": {
    "name": "ipython",
    "version": 3
   },
   "file_extension": ".py",
   "mimetype": "text/x-python",
   "name": "python",
   "nbconvert_exporter": "python",
   "pygments_lexer": "ipython3",
   "version": "3.10.12"
  }
 },
 "nbformat": 4,
 "nbformat_minor": 5
}
