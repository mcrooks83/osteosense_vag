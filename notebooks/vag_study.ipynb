{
 "cells": [
  {
   "cell_type": "code",
   "execution_count": 1,
   "id": "a120f054-9047-4bbd-bdb4-d71f929463a1",
   "metadata": {},
   "outputs": [],
   "source": [
    "from __future__ import division\n",
    "import pandas as pd\n",
    "import numpy as np\n",
    "import logging\n",
    "import math\n",
    "import time\n",
    "import statistics as stats\n",
    "import json\n",
    "from datetime import datetime, timedelta\n",
    "import os, sys\n",
    "import matplotlib.pyplot as plt\n",
    "import glob"
   ]
  },
  {
   "cell_type": "code",
   "execution_count": null,
   "id": "e6941260-faa3-43a0-a68c-f8c5cce03ffe",
   "metadata": {},
   "outputs": [],
   "source": [
    "data_path = \"/data/vag_oa_study/\"\n",
    "\n",
    "all_subjects = [] # for when there are multiple subjects\n",
    "\n",
    "# get all the rep csv files (this could be used if there is more than one subject)\n",
    "assessments = glob.glob(os.path.join(data_path, '*.csv'))\n",
    "# read in the data frames\n",
    "for rep in rep_files:\n",
    "    df = pd.read_csv(file)\n",
    "    #compute mag here\n",
    "    all_subjects.append(df) # will be only 1 initially containing all the reps"
   ]
  }
 ],
 "metadata": {
  "kernelspec": {
   "display_name": "Python 3 (ipykernel)",
   "language": "python",
   "name": "python3"
  },
  "language_info": {
   "codemirror_mode": {
    "name": "ipython",
    "version": 3
   },
   "file_extension": ".py",
   "mimetype": "text/x-python",
   "name": "python",
   "nbconvert_exporter": "python",
   "pygments_lexer": "ipython3",
   "version": "3.10.12"
  }
 },
 "nbformat": 4,
 "nbformat_minor": 5
}
