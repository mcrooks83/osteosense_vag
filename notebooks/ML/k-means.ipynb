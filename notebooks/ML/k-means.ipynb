{
 "cells": [
  {
   "cell_type": "code",
   "execution_count": 2,
   "id": "5768a7e7-c8b6-482a-b26e-9a5cb93d8b39",
   "metadata": {},
   "outputs": [],
   "source": [
    "#!pip install seaborn\n",
    "#%pip uninstall seaborn -y\n",
    "#pip install seaborn\n",
    "import seaborn as sns\n",
    "from __future__ import division\n",
    "import pandas as pd\n",
    "import numpy as np\n",
    "import logging\n",
    "import math\n",
    "import time\n",
    "import statistics as stats\n",
    "import json\n",
    "from datetime import datetime, timedelta\n",
    "import os, sys\n",
    "import matplotlib.pyplot as plt\n",
    "import glob\n",
    "\n",
    "from sklearn.cluster import KMeans\n",
    "from sklearn.cluster import KMeans\n",
    "from sklearn.cluster import AgglomerativeClustering\n",
    "from sklearn.mixture import GaussianMixture\n",
    "\n",
    "from sklearn.decomposition import PCA\n",
    "from sklearn.decomposition import FactorAnalysis\n",
    "\n",
    "from sklearn.preprocessing import LabelEncoder\n",
    "from sklearn.preprocessing import MinMaxScaler, StandardScaler\n",
    "from sklearn.preprocessing import scale, normalize\n",
    "\n",
    "from sklearn.neighbors import KNeighborsClassifier\n",
    "from sklearn.model_selection import train_test_split, cross_val_score\n",
    "from sklearn.metrics import accuracy_score, confusion_matrix, precision_score, recall_score, classification_report\n",
    "\n",
    "from sklearn.feature_selection import RFE"
   ]
  },
  {
   "cell_type": "code",
   "execution_count": 4,
   "id": "7955c9d0-f371-420f-8f79-0294055e3b09",
   "metadata": {},
   "outputs": [
    {
     "name": "stdout",
     "output_type": "stream",
     "text": [
      "   class        FD   FD1_ext  FD1_ext_q1  FD1_ext_q2  FD2_flex  FD2_flex_q1  \\\n",
      "0      1  1.730273  1.714844    1.579943    1.614918  1.523159     1.886867   \n",
      "1      1  1.883919  2.034394    2.061505    1.966511  2.145586     2.146737   \n",
      "\n",
      "   FD2_flex_q2  \n",
      "0     1.983273  \n",
      "1     2.223913  \n"
     ]
    }
   ],
   "source": [
    "frequency_range = (100, 750)\n",
    "\n",
    "#feature_file_path = f\"features/vag_features_{str(frequency_range[0])}_{str(frequency_range[1])}.csv\"\n",
    "feature_file_path = \"features/vag_fd_features.csv\"\n",
    "f_df = pd.read_csv(feature_file_path)\n",
    "print(f_df.head(2))"
   ]
  },
  {
   "cell_type": "markdown",
   "id": "5bb383f8-71e9-4e43-9660-24576b7fc7d0",
   "metadata": {},
   "source": [
    "### K-nearest neighbours classification"
   ]
  },
  {
   "cell_type": "code",
   "execution_count": 6,
   "id": "6c27c51e-bb7b-4372-9ea1-620b2e7ef2c2",
   "metadata": {},
   "outputs": [
    {
     "name": "stdout",
     "output_type": "stream",
     "text": [
      "[0 0 0 1 1 1 0 1 1 0 0 1 1 0 0 0 0 0]\n",
      "Accuracy: 0.7222222222222222\n",
      "Precision: 1.0\n",
      "Recall: 0.5833333333333334\n",
      "confusion matrix\n",
      "[[6 0]\n",
      " [5 7]]\n",
      "              precision    recall  f1-score   support\n",
      "\n",
      "           0       0.55      1.00      0.71         6\n",
      "           1       1.00      0.58      0.74        12\n",
      "\n",
      "    accuracy                           0.72        18\n",
      "   macro avg       0.77      0.79      0.72        18\n",
      "weighted avg       0.85      0.72      0.73        18\n",
      "\n",
      "Feature FD: 0.006\n",
      "Feature FD1_ext: 0.061\n",
      "Feature FD1_ext_q1: 0.028\n",
      "Feature FD1_ext_q2: 0.039\n",
      "Feature FD2_flex: -0.022\n",
      "Feature FD2_flex_q1: 0.022\n",
      "Feature FD2_flex_q2: -0.056\n"
     ]
    },
    {
     "data": {
      "text/html": [
       "<div>\n",
       "<style scoped>\n",
       "    .dataframe tbody tr th:only-of-type {\n",
       "        vertical-align: middle;\n",
       "    }\n",
       "\n",
       "    .dataframe tbody tr th {\n",
       "        vertical-align: top;\n",
       "    }\n",
       "\n",
       "    .dataframe thead th {\n",
       "        text-align: right;\n",
       "    }\n",
       "</style>\n",
       "<table border=\"1\" class=\"dataframe\">\n",
       "  <thead>\n",
       "    <tr style=\"text-align: right;\">\n",
       "      <th></th>\n",
       "      <th>True Label</th>\n",
       "      <th>Predicted Label</th>\n",
       "      <th>Original Index</th>\n",
       "    </tr>\n",
       "  </thead>\n",
       "  <tbody>\n",
       "    <tr>\n",
       "      <th>0</th>\n",
       "      <td>1</td>\n",
       "      <td>0</td>\n",
       "      <td>44</td>\n",
       "    </tr>\n",
       "    <tr>\n",
       "      <th>1</th>\n",
       "      <td>0</td>\n",
       "      <td>0</td>\n",
       "      <td>53</td>\n",
       "    </tr>\n",
       "    <tr>\n",
       "      <th>2</th>\n",
       "      <td>1</td>\n",
       "      <td>0</td>\n",
       "      <td>30</td>\n",
       "    </tr>\n",
       "    <tr>\n",
       "      <th>3</th>\n",
       "      <td>1</td>\n",
       "      <td>1</td>\n",
       "      <td>12</td>\n",
       "    </tr>\n",
       "    <tr>\n",
       "      <th>4</th>\n",
       "      <td>1</td>\n",
       "      <td>1</td>\n",
       "      <td>49</td>\n",
       "    </tr>\n",
       "    <tr>\n",
       "      <th>5</th>\n",
       "      <td>1</td>\n",
       "      <td>1</td>\n",
       "      <td>0</td>\n",
       "    </tr>\n",
       "    <tr>\n",
       "      <th>6</th>\n",
       "      <td>0</td>\n",
       "      <td>0</td>\n",
       "      <td>64</td>\n",
       "    </tr>\n",
       "    <tr>\n",
       "      <th>7</th>\n",
       "      <td>1</td>\n",
       "      <td>1</td>\n",
       "      <td>18</td>\n",
       "    </tr>\n",
       "    <tr>\n",
       "      <th>8</th>\n",
       "      <td>1</td>\n",
       "      <td>1</td>\n",
       "      <td>10</td>\n",
       "    </tr>\n",
       "    <tr>\n",
       "      <th>9</th>\n",
       "      <td>1</td>\n",
       "      <td>0</td>\n",
       "      <td>22</td>\n",
       "    </tr>\n",
       "    <tr>\n",
       "      <th>10</th>\n",
       "      <td>1</td>\n",
       "      <td>0</td>\n",
       "      <td>4</td>\n",
       "    </tr>\n",
       "    <tr>\n",
       "      <th>11</th>\n",
       "      <td>1</td>\n",
       "      <td>1</td>\n",
       "      <td>33</td>\n",
       "    </tr>\n",
       "    <tr>\n",
       "      <th>12</th>\n",
       "      <td>1</td>\n",
       "      <td>1</td>\n",
       "      <td>42</td>\n",
       "    </tr>\n",
       "    <tr>\n",
       "      <th>13</th>\n",
       "      <td>0</td>\n",
       "      <td>0</td>\n",
       "      <td>80</td>\n",
       "    </tr>\n",
       "    <tr>\n",
       "      <th>14</th>\n",
       "      <td>0</td>\n",
       "      <td>0</td>\n",
       "      <td>81</td>\n",
       "    </tr>\n",
       "    <tr>\n",
       "      <th>15</th>\n",
       "      <td>1</td>\n",
       "      <td>0</td>\n",
       "      <td>39</td>\n",
       "    </tr>\n",
       "    <tr>\n",
       "      <th>16</th>\n",
       "      <td>0</td>\n",
       "      <td>0</td>\n",
       "      <td>77</td>\n",
       "    </tr>\n",
       "    <tr>\n",
       "      <th>17</th>\n",
       "      <td>0</td>\n",
       "      <td>0</td>\n",
       "      <td>61</td>\n",
       "    </tr>\n",
       "  </tbody>\n",
       "</table>\n",
       "</div>"
      ],
      "text/plain": [
       "    True Label  Predicted Label  Original Index\n",
       "0            1                0              44\n",
       "1            0                0              53\n",
       "2            1                0              30\n",
       "3            1                1              12\n",
       "4            1                1              49\n",
       "5            1                1               0\n",
       "6            0                0              64\n",
       "7            1                1              18\n",
       "8            1                1              10\n",
       "9            1                0              22\n",
       "10           1                0               4\n",
       "11           1                1              33\n",
       "12           1                1              42\n",
       "13           0                0              80\n",
       "14           0                0              81\n",
       "15           1                0              39\n",
       "16           0                0              77\n",
       "17           0                0              61"
      ]
     },
     "execution_count": 6,
     "metadata": {},
     "output_type": "execute_result"
    }
   ],
   "source": [
    "# KNN\n",
    "data = f_df.copy()\n",
    "# labels\n",
    "y = np.array(data[\"class\"], dtype=np.int32)  # Convert labels to int32\n",
    "# data\n",
    "X = data.drop(columns=[\"class\"], axis=1)\n",
    "data['Original Index'] = data.index\n",
    "X_FD = data[\"FD\"].to_numpy().reshape(-1, 1)\n",
    "\n",
    "# split 0.5 = 50:50\n",
    "X_train, X_test, y_train, y_test = train_test_split(X, y, test_size=0.2, shuffle=True, random_state=42)\n",
    "\n",
    "test_indices = data.loc[X_test.index, 'Original Index'].reset_index(drop=True)\n",
    "# scale\n",
    "scaler = StandardScaler()\n",
    "X_train = scaler.fit_transform(X_train)\n",
    "X_test = scaler.transform(X_test)\n",
    "\n",
    "knn = KNeighborsClassifier(n_neighbors=7)\n",
    "\n",
    "knn.fit(X_train, y_train)\n",
    "y_pred = knn.predict(X_test)\n",
    "print(y_pred)\n",
    "accuracy = accuracy_score(y_test, y_pred)\n",
    "precision = precision_score(y_test, y_pred)\n",
    "recall = recall_score(y_test, y_pred)\n",
    "\n",
    "print(\"Accuracy:\", accuracy)\n",
    "print(\"Precision:\", precision)\n",
    "print(\"Recall:\", recall)\n",
    "\n",
    "conf_matrix = confusion_matrix(y_test, y_pred)\n",
    "class_report = classification_report(y_test, y_pred)\n",
    "print(\"confusion matrix\")\n",
    "print(conf_matrix)\n",
    "print(class_report)\n",
    "\n",
    "from sklearn.inspection import permutation_importance\n",
    "\n",
    "# Train the KNN model\n",
    "# Compute permutation importance\n",
    "results = permutation_importance(knn, X_test, y_test, n_repeats=10, random_state=42)\n",
    "\n",
    "# Get importance scores\n",
    "importance = results.importances_mean\n",
    "\n",
    "features = X.columns.tolist()\n",
    "# Print feature importance\n",
    "for i, v in enumerate(importance):\n",
    "    print(f'Feature {features[i]}: {v:.3f}')\n",
    "\n",
    "# check the test index \n",
    "predictions_df = pd.DataFrame({\n",
    "    'True Label': y_test,\n",
    "    'Predicted Label': y_pred,\n",
    "    'Original Index': test_indices.reset_index(drop=True)  # Ensure indices align\n",
    "})\n",
    "\n",
    "# Display the results of the test data\n",
    "#print()\n",
    "predictions_df"
   ]
  },
  {
   "cell_type": "code",
   "execution_count": 110,
   "id": "c0e24fec-6e9e-4259-acb9-525420cceecb",
   "metadata": {},
   "outputs": [
    {
     "name": "stdout",
     "output_type": "stream",
     "text": [
      "9\n",
      "actual class is: 0\n",
      "predicted class is: [0]\n"
     ]
    },
    {
     "name": "stderr",
     "output_type": "stream",
     "text": [
      "/home/mike/.local/lib/python3.10/site-packages/sklearn/base.py:493: UserWarning: X does not have valid feature names, but StandardScaler was fitted with feature names\n",
      "  warnings.warn(\n"
     ]
    }
   ],
   "source": [
    "# test a given row from the original data set\n",
    "# take a row\n",
    "test_row = data.iloc[54]\n",
    "\n",
    "actual_state = int(test_row[\"STATE\"])\n",
    "#print(data['Original Index'].to_numpy())\n",
    "test_row = test_row.drop([\"STATE\", 'Original Index']).to_numpy().reshape(1, -1)\n",
    "print(len(test_row[0]))\n",
    "\n",
    "# scale the data input for the model\n",
    "test_row_scaled = scaler.transform(test_row)\n",
    "# make a prediction\n",
    "prediction = knn.predict(test_row_scaled)\n",
    "print(f\"actual class is: {actual_state}\")\n",
    "print(f\"predicted class is: {prediction}\")"
   ]
  },
  {
   "cell_type": "markdown",
   "id": "e218d086-a36c-4239-9b7a-8b8890e47d78",
   "metadata": {},
   "source": [
    "#### Plot the accuracy"
   ]
  },
  {
   "cell_type": "code",
   "execution_count": 83,
   "id": "e5daaf43-edf8-474e-8738-f06aa4c9148f",
   "metadata": {},
   "outputs": [
    {
     "data": {
      "text/plain": [
       "Text(0, 0.5, 'Accuracy Score')"
      ]
     },
     "execution_count": 83,
     "metadata": {},
     "output_type": "execute_result"
    },
    {
     "data": {
      "image/png": "[encoded data removed]",
      "text/plain": [
       "<Figure size 640x480 with 1 Axes>"
      ]
     },
     "metadata": {},
     "output_type": "display_data"
    }
   ],
   "source": [
    "k_values = [i for i in range (1,31)]\n",
    "scores = []\n",
    "\n",
    "scaler = StandardScaler()\n",
    "X = scaler.fit_transform(X)\n",
    "\n",
    "for k in k_values:\n",
    "    knn = KNeighborsClassifier(n_neighbors=k)\n",
    "    score = cross_val_score(knn, X, y, cv=7)\n",
    "    scores.append(np.mean(score))\n",
    "\n",
    "sns.lineplot(x = k_values, y = scores, marker = 'o')\n",
    "plt.xlabel(\"K Values\")\n",
    "plt.ylabel(\"Accuracy Score\")"
   ]
  },
  {
   "cell_type": "markdown",
   "id": "2d242b53-6b4e-4639-acdb-9feb6346cf0a",
   "metadata": {},
   "source": [
    "### KMeans Custering (Unsupervised)"
   ]
  },
  {
   "cell_type": "code",
   "execution_count": 59,
   "id": "9e372daa-f42a-47f9-af34-92a63825c07a",
   "metadata": {},
   "outputs": [
    {
     "name": "stdout",
     "output_type": "stream",
     "text": [
      "         FD    FD_EXT    FD_FLX       VMS       VMS_EXT       VMS_FLX  \\\n",
      "0  1.714624 -2.449159 -2.389366  0.003594  1.172150e-08  4.956498e-08   \n",
      "1  1.876535 -2.966521 -3.259061  0.017189  2.155439e-08  4.883802e-08   \n",
      "\n",
      "            LI      LI_EXT      LI_FLX  \n",
      "0   684.049676   75.651090  103.905869  \n",
      "1  1746.572715  154.977514  160.024887  \n"
     ]
    }
   ],
   "source": [
    "actual_groups = f_df[\"STATE\"].to_numpy()\n",
    "features_wo_group = f_df.copy()\n",
    "features_wo_group = features_wo_group.drop([\"STATE\"], axis=1)\n",
    "print(features_wo_group.head(2))"
   ]
  },
  {
   "cell_type": "code",
   "execution_count": 60,
   "id": "f70ad293-f7bf-44b7-bc50-7b99450b0339",
   "metadata": {},
   "outputs": [
    {
     "name": "stdout",
     "output_type": "stream",
     "text": [
      "predicted groups: [1 0 0 1 0 1 0 0 1 0 0 0 1 1 1 1 1 1 0 0 1 0 1 1 1 0 1 0 1 0 0 1 1 1 1 1 1\n",
      " 1 0 1 1 1 1 0 1 0 0 1 0 0 0 1 1 1 1 1 1 1 1 1 1 1 1 1 1 1 1 1 1 1 1 1 1 1\n",
      " 1 1 1 1 1 1 1 1 1 1 1 1 1 1 1]\n",
      "actual groups:    [1 1 1 1 1 1 1 1 1 1 1 1 1 1 1 1 1 1 1 1 1 1 1 1 1 1 1 1 1 1 1 1 1 1 1 1 1\n",
      " 1 1 1 1 1 1 1 1 1 1 1 1 1 1 0 0 0 0 0 0 0 0 0 0 0 0 0 0 0 0 0 0 0 0 0 0 0\n",
      " 0 0 0 0 0 0 0 0 0 0 0 0 0 0 0]\n",
      "\n",
      "number of 0's: 22\n",
      "number of 1's: 67\n",
      "\n",
      "[True, False, False, True, False, True, False, False, True, False, False, False, True, True, True, True, True, True, False, False, True, False, True, True, True, False, True, False, True, False, False, True, True, True, True, True, True, True, False, True, True, True, True, False, True, False, False, True, False, False, False, False, False, False, False, False, False, False, False, False, False, False, False, False, False, False, False, False, False, False, False, False, False, False, False, False, False, False, False, False, False, False, False, False, False, False, False, False, False]\n",
      " num of correct: 29\n"
     ]
    }
   ],
   "source": [
    "#data_scaled = features_wo_group\n",
    "\n",
    "# scale data?\n",
    "scaler = StandardScaler()\n",
    "data_scaled = scaler.fit_transform(features_wo_group)\n",
    "\n",
    "kmeans = KMeans(n_clusters=2, random_state=42, max_iter=300).fit(data_scaled)\n",
    "print(f\"predicted groups: {kmeans.labels_}\")\n",
    "print(f\"actual groups:    {actual_groups}\")\n",
    "\n",
    "k_means_class0 = [x for x in kmeans.labels_ if x == 0]\n",
    "k_means_class1 = [x for x in kmeans.labels_ if x == 1]\n",
    "print()\n",
    "print(f\"number of 0's: {len(k_means_class0)}\")\n",
    "print(f\"number of 1's: {len(k_means_class1)}\")\n",
    "\n",
    "correct = []\n",
    "num_correct = 0\n",
    "for i in range(0, len(kmeans.labels_)):\n",
    "    if(kmeans.labels_[i] == actual_groups[i]):\n",
    "        correct.append(True)\n",
    "        num_correct += 1\n",
    "    else:\n",
    "        correct.append(False)\n",
    "print()\n",
    "print(correct)\n",
    "print(f\" num of correct: {num_correct}\")"
   ]
  },
  {
   "cell_type": "code",
   "execution_count": 61,
   "id": "6db707d9-7efd-4588-9750-2d3148b008e2",
   "metadata": {},
   "outputs": [
    {
     "name": "stdout",
     "output_type": "stream",
     "text": [
      "              PC1       PC2\n",
      "FD       0.568307 -0.453428\n",
      "FD_EXT   0.022337 -0.448356\n",
      "FD_FLX  -0.150708 -0.479476\n",
      "VMS      0.772702 -0.285123\n",
      "VMS_EXT -0.140650  0.576999\n",
      "VMS_FLX -0.031018 -0.270766\n",
      "LI       0.956083 -0.102015\n",
      "LI_EXT   0.781449  0.474272\n",
      "LI_FLX   0.807969  0.266627\n"
     ]
    }
   ],
   "source": [
    "pca = PCA(n_components=2)\n",
    "#scaler = StandardScaler()\n",
    "#data_scaled = scaler.fit_transform(metrics_wo_patients)\n",
    "X_pca = pca.fit_transform(data_scaled)\n",
    "\n",
    "loadings = pca.components_.T * np.sqrt(pca.explained_variance_)\n",
    "loading_df = pd.DataFrame(loadings, index=features_wo_group.columns, columns=['PC1', 'PC2'])\n",
    "\n",
    "print(loading_df)"
   ]
  },
  {
   "cell_type": "code",
   "execution_count": 62,
   "id": "afa91908-a6e9-42c4-882d-817a0609a7ec",
   "metadata": {},
   "outputs": [
    {
     "data": {
      "image/png": "[encoded data removed]",
      "text/plain": [
       "<Figure size 1000x300 with 1 Axes>"
      ]
     },
     "metadata": {},
     "output_type": "display_data"
    }
   ],
   "source": [
    "# Create a scatter plot\n",
    "plt.figure(figsize=(10, 3))\n",
    "\n",
    "# Define colors for each group\n",
    "colors = {0: 'yellow', 1: 'm', 2: 'c', 3:'b', 4:'r'}  # Add more colors if you have more groups\n",
    "\n",
    "# Plot each group with its corresponding color\n",
    "for group in np.unique(kmeans.labels_):\n",
    "    plt.scatter(X_pca[kmeans.labels_ == group, 0], \n",
    "                X_pca[kmeans.labels_ == group, 1], \n",
    "                color=colors[group], \n",
    "                label=f'Group {group}')\n",
    "\n",
    "# Plot cluster centers\n",
    "centers_pca = pca.transform(kmeans.cluster_centers_)\n",
    "plt.scatter(centers_pca[:, 0], centers_pca[:, 1], c='black', s=100, alpha=0.75, marker='X', label='Centroids')\n",
    "\n",
    "# Add labels and title\n",
    "plt.xlabel('PCA Component 1')\n",
    "plt.ylabel('PCA Component 2')\n",
    "plt.title('KMeans Clusters (PCA Projection)')\n",
    "\n",
    "# Add legend\n",
    "plt.legend()\n",
    "plt.show()"
   ]
  },
  {
   "cell_type": "code",
   "execution_count": null,
   "id": "61b09a9e-5723-4878-a80d-8c7b032aaf47",
   "metadata": {},
   "outputs": [],
   "source": []
  },
  {
   "cell_type": "code",
   "execution_count": null,
   "id": "f83bedb2-d5c7-440f-b672-d0e7df67f6f7",
   "metadata": {},
   "outputs": [],
   "source": []
  }
 ],
 "metadata": {
  "kernelspec": {
   "display_name": "Python 3 (ipykernel)",
   "language": "python",
   "name": "python3"
  },
  "language_info": {
   "codemirror_mode": {
    "name": "ipython",
    "version": 3
   },
   "file_extension": ".py",
   "mimetype": "text/x-python",
   "name": "python",
   "nbconvert_exporter": "python",
   "pygments_lexer": "ipython3",
   "version": "3.10.12"
  }
 },
 "nbformat": 4,
 "nbformat_minor": 5
}
