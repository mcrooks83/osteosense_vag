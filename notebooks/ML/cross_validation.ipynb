{
 "cells": [
  {
   "cell_type": "code",
   "execution_count": 1,
   "id": "8ea8f8b4-b293-4700-b48f-8d5ca124c412",
   "metadata": {},
   "outputs": [],
   "source": [
    "#!pip install seaborn\n",
    "#%pip uninstall seaborn -y\n",
    "#pip install seaborn\n",
    "import seaborn as sns\n",
    "from __future__ import division\n",
    "import pandas as pd\n",
    "import numpy as np\n",
    "import logging\n",
    "import math\n",
    "import time\n",
    "import statistics as stats\n",
    "import json\n",
    "from datetime import datetime, timedelta\n",
    "import os, sys\n",
    "import matplotlib.pyplot as plt\n",
    "import glob\n",
    "%matplotlib inline\n",
    "\n",
    "from sklearn.preprocessing import LabelEncoder\n",
    "from sklearn.preprocessing import MinMaxScaler, StandardScaler, RobustScaler\n",
    "from sklearn.preprocessing import scale, normalize\n",
    "\n",
    "from sklearn.neighbors import KNeighborsClassifier\n",
    "from sklearn.discriminant_analysis import LinearDiscriminantAnalysis as LDA\n",
    "from sklearn.model_selection import train_test_split, cross_val_score\n",
    "from sklearn.metrics import accuracy_score, confusion_matrix, precision_score, recall_score, classification_report\n",
    "\n",
    "from sklearn.feature_selection import RFE"
   ]
  },
  {
   "cell_type": "code",
   "execution_count": 2,
   "id": "453cedd1-3883-4554-8a6d-29fe0dbd7add",
   "metadata": {},
   "outputs": [
    {
     "name": "stdout",
     "output_type": "stream",
     "text": [
      "   class        FD   FD1_ext  FD1_ext_q1  FD1_ext_q2  FD2_flex  FD2_flex_q1  \\\n",
      "0      1  1.730273  1.714844    1.579943    1.614918  1.523159     1.886867   \n",
      "1      1  1.883919  2.034394    2.061505    1.966511  2.145586     2.146737   \n",
      "\n",
      "   FD2_flex_q2       VMS  \n",
      "0     1.983273  0.000050  \n",
      "1     2.223913  0.000016  \n"
     ]
    }
   ],
   "source": [
    "feature_file_path = \"features/vag_fd_features.csv\"\n",
    "f_df = pd.read_csv(feature_file_path)\n",
    "print(f_df.head(2))"
   ]
  },
  {
   "cell_type": "code",
   "execution_count": 7,
   "id": "26a63217-8244-4e79-9e60-eb701546296f",
   "metadata": {},
   "outputs": [],
   "source": [
    "data = f_df.copy()\n",
    "# labels\n",
    "y = np.array(data[\"class\"], dtype=np.int32)  # Convert labels to int32\n",
    "# data\n",
    "X = data.drop(columns=[\"class\"], axis=1)\n",
    "# scale\n",
    "scaler = RobustScaler()\n",
    "X = scaler.fit_transform(X)"
   ]
  },
  {
   "cell_type": "code",
   "execution_count": 8,
   "id": "6c6e1bdc-ba1e-4a21-8cd9-cb0d5fd248c6",
   "metadata": {},
   "outputs": [],
   "source": [
    "# data frame for model analysis\n",
    "\n",
    "metrics = pd.DataFrame(index=['accuracy', 'precision', 'recall'],\n",
    "                      columns=['knn', 'LDA'])\n",
    "    "
   ]
  },
  {
   "cell_type": "code",
   "execution_count": 19,
   "id": "71a4f971-58eb-4c5c-b035-9f65bb3d5396",
   "metadata": {},
   "outputs": [
    {
     "name": "stdout",
     "output_type": "stream",
     "text": [
      "mean accuracy 0.6194444444444445\n",
      "mean accuracy 0.6763888888888888\n"
     ]
    },
    {
     "data": {
      "text/html": [
       "<div>\n",
       "<style scoped>\n",
       "    .dataframe tbody tr th:only-of-type {\n",
       "        vertical-align: middle;\n",
       "    }\n",
       "\n",
       "    .dataframe tbody tr th {\n",
       "        vertical-align: top;\n",
       "    }\n",
       "\n",
       "    .dataframe thead th {\n",
       "        text-align: right;\n",
       "    }\n",
       "</style>\n",
       "<table border=\"1\" class=\"dataframe\">\n",
       "  <thead>\n",
       "    <tr style=\"text-align: right;\">\n",
       "      <th></th>\n",
       "      <th>fit_time</th>\n",
       "      <th>score_time</th>\n",
       "      <th>test_neg_mean_squared_error</th>\n",
       "      <th>test_accuracy</th>\n",
       "      <th>test_r2</th>\n",
       "    </tr>\n",
       "  </thead>\n",
       "  <tbody>\n",
       "    <tr>\n",
       "      <th>0</th>\n",
       "      <td>0.000000</td>\n",
       "      <td>0.014219</td>\n",
       "      <td>-0.333333</td>\n",
       "      <td>0.666667</td>\n",
       "      <td>-0.500000</td>\n",
       "    </tr>\n",
       "    <tr>\n",
       "      <th>1</th>\n",
       "      <td>0.014219</td>\n",
       "      <td>0.000000</td>\n",
       "      <td>-0.222222</td>\n",
       "      <td>0.777778</td>\n",
       "      <td>0.100000</td>\n",
       "    </tr>\n",
       "    <tr>\n",
       "      <th>2</th>\n",
       "      <td>0.014219</td>\n",
       "      <td>0.004613</td>\n",
       "      <td>-0.444444</td>\n",
       "      <td>0.555556</td>\n",
       "      <td>-0.800000</td>\n",
       "    </tr>\n",
       "    <tr>\n",
       "      <th>3</th>\n",
       "      <td>0.000000</td>\n",
       "      <td>0.004613</td>\n",
       "      <td>-0.222222</td>\n",
       "      <td>0.777778</td>\n",
       "      <td>0.100000</td>\n",
       "    </tr>\n",
       "    <tr>\n",
       "      <th>4</th>\n",
       "      <td>0.004011</td>\n",
       "      <td>0.000000</td>\n",
       "      <td>-0.666667</td>\n",
       "      <td>0.333333</td>\n",
       "      <td>-1.700000</td>\n",
       "    </tr>\n",
       "    <tr>\n",
       "      <th>5</th>\n",
       "      <td>0.000000</td>\n",
       "      <td>0.010194</td>\n",
       "      <td>-0.333333</td>\n",
       "      <td>0.666667</td>\n",
       "      <td>-0.350000</td>\n",
       "    </tr>\n",
       "    <tr>\n",
       "      <th>6</th>\n",
       "      <td>0.000000</td>\n",
       "      <td>0.000000</td>\n",
       "      <td>-0.444444</td>\n",
       "      <td>0.555556</td>\n",
       "      <td>-0.800000</td>\n",
       "    </tr>\n",
       "    <tr>\n",
       "      <th>7</th>\n",
       "      <td>0.000000</td>\n",
       "      <td>0.010194</td>\n",
       "      <td>-0.222222</td>\n",
       "      <td>0.777778</td>\n",
       "      <td>0.100000</td>\n",
       "    </tr>\n",
       "    <tr>\n",
       "      <th>8</th>\n",
       "      <td>0.000000</td>\n",
       "      <td>0.010138</td>\n",
       "      <td>-0.222222</td>\n",
       "      <td>0.777778</td>\n",
       "      <td>0.100000</td>\n",
       "    </tr>\n",
       "    <tr>\n",
       "      <th>9</th>\n",
       "      <td>0.000000</td>\n",
       "      <td>0.000000</td>\n",
       "      <td>-0.125000</td>\n",
       "      <td>0.875000</td>\n",
       "      <td>0.466667</td>\n",
       "    </tr>\n",
       "  </tbody>\n",
       "</table>\n",
       "</div>"
      ],
      "text/plain": [
       "   fit_time  score_time  test_neg_mean_squared_error  test_accuracy   test_r2\n",
       "0  0.000000    0.014219                    -0.333333       0.666667 -0.500000\n",
       "1  0.014219    0.000000                    -0.222222       0.777778  0.100000\n",
       "2  0.014219    0.004613                    -0.444444       0.555556 -0.800000\n",
       "3  0.000000    0.004613                    -0.222222       0.777778  0.100000\n",
       "4  0.004011    0.000000                    -0.666667       0.333333 -1.700000\n",
       "5  0.000000    0.010194                    -0.333333       0.666667 -0.350000\n",
       "6  0.000000    0.000000                    -0.444444       0.555556 -0.800000\n",
       "7  0.000000    0.010194                    -0.222222       0.777778  0.100000\n",
       "8  0.000000    0.010138                    -0.222222       0.777778  0.100000\n",
       "9  0.000000    0.000000                    -0.125000       0.875000  0.466667"
      ]
     },
     "execution_count": 19,
     "metadata": {},
     "output_type": "execute_result"
    }
   ],
   "source": [
    "from sklearn.model_selection import cross_validate\n",
    "\n",
    "# models\n",
    "# KNN\n",
    "knn = KNeighborsClassifier(n_neighbors=20, weights='distance', metric='euclidean', n_jobs=-1)\n",
    "\n",
    "knn_scores = cross_validate(estimator=knn, X=X, y=y,\n",
    "                       scoring=['neg_mean_squared_error','accuracy', 'r2'], cv=10, n_jobs=-1)\n",
    "\n",
    "print(\"mean accuracy\", knn_scores['test_accuracy'].mean())\n",
    "knn_scores=pd.DataFrame(knn_scores)\n",
    "#knn_scores\n",
    "\n",
    "lda = LDA()\n",
    "lda_scores = cross_validate(estimator=lda, X=X, y=y,\n",
    "                       scoring=['neg_mean_squared_error','accuracy', 'r2'], cv=10, n_jobs=-1)\n",
    "\n",
    "print(\"mean accuracy\", lda_scores['test_accuracy'].mean())\n",
    "lda_scores=pd.DataFrame(lda_scores)\n",
    "lda_scores\n"
   ]
  },
  {
   "cell_type": "code",
   "execution_count": 54,
   "id": "e549a6f0-514e-4a39-831f-39c5e0813b23",
   "metadata": {},
   "outputs": [
    {
     "data": {
      "image/png": "[encoded data removed]",
      "text/plain": [
       "<Figure size 800x500 with 1 Axes>"
      ]
     },
     "metadata": {},
     "output_type": "display_data"
    }
   ],
   "source": [
    "fig, ax = plt.subplots(figsize=(8,5))\n",
    "metrics.plot(kind='barh', ax=ax)\n",
    "ax.grid()"
   ]
  },
  {
   "cell_type": "code",
   "execution_count": null,
   "id": "c2523cbb-9c79-4058-b269-8bef7cb26ceb",
   "metadata": {},
   "outputs": [],
   "source": []
  }
 ],
 "metadata": {
  "kernelspec": {
   "display_name": "Python 3 (ipykernel)",
   "language": "python",
   "name": "python3"
  },
  "language_info": {
   "codemirror_mode": {
    "name": "ipython",
    "version": 3
   },
   "file_extension": ".py",
   "mimetype": "text/x-python",
   "name": "python",
   "nbconvert_exporter": "python",
   "pygments_lexer": "ipython3",
   "version": "3.11.8"
  }
 },
 "nbformat": 4,
 "nbformat_minor": 5
}
