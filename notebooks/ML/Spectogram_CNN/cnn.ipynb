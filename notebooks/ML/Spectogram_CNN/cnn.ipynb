{
 "cells": [
  {
   "cell_type": "code",
   "execution_count": 8,
   "id": "83567172-4760-4c58-af47-0e7af78183f5",
   "metadata": {},
   "outputs": [],
   "source": [
    "import pandas as pd\n",
    "import numpy as np\n",
    "import tensorflow as tf\n",
    "from tensorflow.keras.models import Sequential\n",
    "from tensorflow.keras.layers import Conv2D, MaxPooling2D, Flatten, Dense\n",
    "from tensorflow.keras.utils import to_categorical\n",
    "import matplotlib.pyplot as plt"
   ]
  },
  {
   "cell_type": "code",
   "execution_count": 9,
   "id": "9596ea32-83d4-4e44-8f61-49c160b09396",
   "metadata": {},
   "outputs": [],
   "source": [
    "def read_csv_to_df(path):\n",
    "    return pd.read_csv(path)\n",
    "\n",
    "# should try filtered set also in case its better (but I dont know if the data was filtered prior or not)\n",
    "h_data_path = \"healthy.csv\"\n",
    "p_data_path = \"pathology.csv\"\n",
    "\n",
    "#h_data_path = \"healthy_f.csv\"\n",
    "#p_data_path = \"pathology_f.csv\"\n",
    "\n",
    "h_df = read_csv_to_df(h_data_path)\n",
    "p_df = read_csv_to_df(p_data_path)\n",
    "\n",
    "h_data = []\n",
    "p_data = []\n",
    "\n",
    "for spectrogram_id, group in h_df.groupby('spectrogram_id'):\n",
    "    # Extract frequency, time, and power values\n",
    "    power = []\n",
    "    for f, g in group.groupby(\"frequency\"):\n",
    "        p = g['power']\n",
    "        p_num = p.to_numpy()\n",
    "        power.append(p_num)\n",
    "    p_ = np.array(power)\n",
    "    p_shaped = p_.reshape(p_.shape[0], p_.shape[1], 1)  # Shape will be (129, 41, 1)\n",
    "    h_data.append(p_shaped)\n",
    "\n",
    "for spectrogram_id, group in p_df.groupby('spectrogram_id'):\n",
    "    # Extract frequency, time, and power values\n",
    "    power = []\n",
    "    for f, g in group.groupby(\"frequency\"):\n",
    "        p = g['power']\n",
    "        p_num = p.to_numpy()\n",
    "        power.append(p_num)\n",
    "    p_ = np.array(power)\n",
    "    p_shaped = p_.reshape(p_.shape[0], p_.shape[1], 1)  # Shape will be (129, 41, 1)\n",
    "    p_data.append(p_shaped)"
   ]
  },
  {
   "cell_type": "code",
   "execution_count": 10,
   "id": "01e3ed45-d3d8-4dfa-87cd-abbb28b91bd7",
   "metadata": {},
   "outputs": [
    {
     "name": "stdout",
     "output_type": "stream",
     "text": [
      "Shape of X_class_1: (51, 257, 19, 1)\n",
      "Shape of X_class_0: (38, 257, 19, 1)\n",
      "Shape of X: (89, 257, 19, 1)\n",
      "(89,)\n"
     ]
    }
   ],
   "source": [
    "# Stack the arrays for class 1 and class 0\n",
    "X_class_1 = np.stack(h_data)  # Shape will be (n_samples_1, 129, 41, 1)\n",
    "X_class_0 = np.stack(p_data)  # Shape will be (n_samples_0, 129, 41, 1)\n",
    "\n",
    "# Print shapes to verify\n",
    "print(\"Shape of X_class_1:\", X_class_1.shape)  # Should show (n_samples_1, 129, 41, 1)\n",
    "print(\"Shape of X_class_0:\", X_class_0.shape)  # Should show (n_samples_0, 129, 41, 1)\n",
    "\n",
    "# Concatenate the stacked arrays\n",
    "X = np.concatenate((X_class_0, X_class_1), axis=0)  # Shape will be (total_samples, 129, 41, 1)\n",
    "print(\"Shape of X:\", X.shape) \n",
    "\n",
    "y_class_0 = np.zeros(X_class_0.shape[0])  # Labels for class 0\n",
    "y_class_1 = np.ones(X_class_1.shape[0])   # Labels for class 1\n",
    "y = np.concatenate((y_class_0, y_class_1))  # Combine labels\n",
    "print(y.shape)"
   ]
  },
  {
   "cell_type": "code",
   "execution_count": 17,
   "id": "3c997197-4d48-44a5-bb0e-6bce5d71d563",
   "metadata": {},
   "outputs": [
    {
     "name": "stdout",
     "output_type": "stream",
     "text": [
      "X_train shape: (66, 257, 19, 1)\n",
      "X_test shape: (23, 257, 19, 1)\n",
      "y_train shape: (66,)\n",
      "y_test shape: (23,)\n"
     ]
    }
   ],
   "source": [
    "# train and test data?\n",
    "from sklearn.model_selection import train_test_split\n",
    "\n",
    "# Assuming X is your feature data and y is your label data\n",
    "\n",
    "# Split the data: 80% for training, 20% for testing\n",
    "X_train, X_test, y_train, y_test = train_test_split(X, y, random_state=42)\n",
    "\n",
    "# Check the shapes of the splits\n",
    "print(\"X_train shape:\", X_train.shape)\n",
    "print(\"X_test shape:\", X_test.shape)\n",
    "print(\"y_train shape:\", y_train.shape)\n",
    "print(\"y_test shape:\", y_test.shape)\n"
   ]
  },
  {
   "cell_type": "code",
   "execution_count": 18,
   "id": "b95ba62e-6a14-4c69-bb26-4b20a3f4d124",
   "metadata": {},
   "outputs": [
    {
     "name": "stdout",
     "output_type": "stream",
     "text": [
      "Shape of X Train: (66, 257, 19, 1)\n",
      "Shape of X Test: (23, 257, 19, 1)\n",
      "Shape of y Train: (66,)\n",
      "Shape of y Test: (23,)\n",
      "Type of X Train: <class 'numpy.ndarray'>\n",
      "Type of X Test: <class 'numpy.ndarray'>\n",
      "y dtype: int32\n",
      "y dtype: int32\n"
     ]
    }
   ],
   "source": [
    "# Shuffle the dataset - this is done by the .fit method potentially?\n",
    "#indices = np.arange(X.shape[0])  # Create an array of indices\n",
    "#np.random.shuffle(indices)  # Shuffle indices\n",
    "#X = X[indices]  # Shuffle the data\n",
    "#y = y[indices]  # Shuffle the labels\n",
    "\n",
    "y_train = np.array(y_train, dtype=np.int32)  # Convert labels to int32\n",
    "y_test = np.array(y_test, dtype=np.int32)  # Convert labels to int32\n",
    "\n",
    "# verify shapes of data and types\n",
    "print(\"Shape of X Train:\", X_train.shape)  # Should be (total_samples, 129, 41, 1)\n",
    "print(\"Shape of X Test:\", X_test.shape)  # Should be (total_samples, 129, 41, 1)\n",
    "print(\"Shape of y Train:\", y_train.shape)  # Should be (total_samples,)\n",
    "print(\"Shape of y Test:\", y_test.shape)  # Should be (total_samples,)\n",
    "print(\"Type of X Train:\", type(X_train))  # Should be <class 'numpy.ndarray'>\n",
    "print(\"Type of X Test:\", type(X_test))  # Should be <class 'numpy.ndarray'>\n",
    "print(\"y dtype:\", y_train.dtype)  # Should show int32\n",
    "print(\"y dtype:\", y_test.dtype)  # Should show int32"
   ]
  },
  {
   "cell_type": "markdown",
   "id": "1a69e164-ae35-40b5-a5e0-226a2eebcb93",
   "metadata": {},
   "source": [
    "#### Define the CNN Model"
   ]
  },
  {
   "cell_type": "code",
   "execution_count": 21,
   "id": "ae7fef27-9819-4352-8eb0-c584e352d3ad",
   "metadata": {},
   "outputs": [
    {
     "name": "stdout",
     "output_type": "stream",
     "text": [
      "softmax\n",
      "<Sequential name=sequential_4, built=False>\n"
     ]
    }
   ],
   "source": [
    "# try sigmoid and softmax\n",
    "\n",
    "#### last results (restart kernal first) ##################\n",
    "# validation data of 0.1, batch_size 32\n",
    "# 107ms/step - accuracy: 0.9607 - loss: 0.0576  \n",
    "# Loss: 0.11523419618606567, Accuracy: 0.9213483333587646\n",
    "###########################################################\n",
    "\n",
    "#### last results (restart kernal first) ##################\n",
    "# validation data of 0.3, batch_size 32\n",
    "# 105ms/step - accuracy: 0.5795 - loss: 0.6805\n",
    "# Loss: 0.6825977563858032, Accuracy: 0.5730336904525757\n",
    "###########################################################\n",
    "\n",
    "def generate_model(activation):\n",
    "    a = (0,\"\")\n",
    "    if(activation == \"softmax\"):\n",
    "        a = (2, activation)\n",
    "    elif(activation == \"sigmoid\"):\n",
    "        a=(1, activation)\n",
    "    print(a[1])\n",
    "    model = Sequential([\n",
    "        Conv2D(32, (3, 3), activation='relu', ), # no input_shape=(129,41,1)\n",
    "        #MaxPooling2D(pool_size=2, strides=1),\n",
    "\n",
    "        Conv2D(64, (3, 3), activation='relu', ), # no input_shape=(129,41,1)\n",
    "        #MaxPooling2D(pool_size=2, strides=1),\n",
    "\n",
    "        Conv2D(128, (3, 3), activation='relu', ), # no input_shape=(129,41,1)\n",
    "        #MaxPooling2D(pool_size=2, strides=1),\n",
    "\n",
    "        Flatten(),\n",
    "        Dense(256, activation='relu'),\n",
    "        Dense(a[0], activation=a[1])\n",
    "    \n",
    "    ])\n",
    "\n",
    "    return model\n",
    "\n",
    "activation = \"softmax\"\n",
    "model = generate_model(activation)\n",
    "print(model)\n",
    "model.compile(optimizer='adam', loss='binary_crossentropy', metrics=['accuracy'])\n",
    "\n"
   ]
  },
  {
   "cell_type": "markdown",
   "id": "de6c1110-beec-4a89-afb6-77f28a46a9f0",
   "metadata": {},
   "source": [
    "#### Train the model"
   ]
  },
  {
   "cell_type": "code",
   "execution_count": 20,
   "id": "e7a3c38b-60fe-467c-949c-a9e0185b49a7",
   "metadata": {},
   "outputs": [
    {
     "name": "stdout",
     "output_type": "stream",
     "text": [
      "Epoch 1/50\n",
      "\u001b[1m3/3\u001b[0m \u001b[32m━━━━━━━━━━━━━━━━━━━━\u001b[0m\u001b[37m\u001b[0m \u001b[1m3s\u001b[0m 576ms/step - accuracy: 0.4497 - loss: 244.6308 - val_accuracy: 0.5217 - val_loss: 144.3259\n",
      "Epoch 2/50\n",
      "\u001b[1m3/3\u001b[0m \u001b[32m━━━━━━━━━━━━━━━━━━━━\u001b[0m\u001b[37m\u001b[0m \u001b[1m2s\u001b[0m 533ms/step - accuracy: 0.5388 - loss: 81.7439 - val_accuracy: 0.4783 - val_loss: 3.3311\n",
      "Epoch 3/50\n",
      "\u001b[1m3/3\u001b[0m \u001b[32m━━━━━━━━━━━━━━━━━━━━\u001b[0m\u001b[37m\u001b[0m \u001b[1m2s\u001b[0m 540ms/step - accuracy: 0.5034 - loss: 15.6053 - val_accuracy: 0.5217 - val_loss: 75.5863\n",
      "Epoch 4/50\n",
      "\u001b[1m3/3\u001b[0m \u001b[32m━━━━━━━━━━━━━━━━━━━━\u001b[0m\u001b[37m\u001b[0m \u001b[1m2s\u001b[0m 535ms/step - accuracy: 0.5572 - loss: 61.4748 - val_accuracy: 0.5217 - val_loss: 6.5364\n",
      "Epoch 5/50\n",
      "\u001b[1m3/3\u001b[0m \u001b[32m━━━━━━━━━━━━━━━━━━━━\u001b[0m\u001b[37m\u001b[0m \u001b[1m2s\u001b[0m 540ms/step - accuracy: 0.5889 - loss: 4.8256 - val_accuracy: 0.5217 - val_loss: 1.4285\n",
      "Epoch 6/50\n",
      "\u001b[1m3/3\u001b[0m \u001b[32m━━━━━━━━━━━━━━━━━━━━\u001b[0m\u001b[37m\u001b[0m \u001b[1m2s\u001b[0m 536ms/step - accuracy: 0.6275 - loss: 1.2883 - val_accuracy: 0.4783 - val_loss: 2.5485\n",
      "Epoch 7/50\n",
      "\u001b[1m3/3\u001b[0m \u001b[32m━━━━━━━━━━━━━━━━━━━━\u001b[0m\u001b[37m\u001b[0m \u001b[1m2s\u001b[0m 539ms/step - accuracy: 0.3960 - loss: 2.5431 - val_accuracy: 0.5217 - val_loss: 0.7281\n",
      "Epoch 8/50\n",
      "\u001b[1m3/3\u001b[0m \u001b[32m━━━━━━━━━━━━━━━━━━━━\u001b[0m\u001b[37m\u001b[0m \u001b[1m2s\u001b[0m 543ms/step - accuracy: 0.6001 - loss: 0.6895 - val_accuracy: 0.4783 - val_loss: 0.6932\n",
      "Epoch 9/50\n",
      "\u001b[1m3/3\u001b[0m \u001b[32m━━━━━━━━━━━━━━━━━━━━\u001b[0m\u001b[37m\u001b[0m \u001b[1m2s\u001b[0m 547ms/step - accuracy: 0.5889 - loss: 0.6930 - val_accuracy: 0.5217 - val_loss: 0.6930\n",
      "Epoch 10/50\n",
      "\u001b[1m3/3\u001b[0m \u001b[32m━━━━━━━━━━━━━━━━━━━━\u001b[0m\u001b[37m\u001b[0m \u001b[1m2s\u001b[0m 545ms/step - accuracy: 0.5962 - loss: 0.6928 - val_accuracy: 0.5217 - val_loss: 0.6930\n",
      "Epoch 11/50\n",
      "\u001b[1m3/3\u001b[0m \u001b[32m━━━━━━━━━━━━━━━━━━━━\u001b[0m\u001b[37m\u001b[0m \u001b[1m2s\u001b[0m 544ms/step - accuracy: 0.5923 - loss: 0.6927 - val_accuracy: 0.5217 - val_loss: 0.6930\n",
      "Epoch 12/50\n",
      "\u001b[1m3/3\u001b[0m \u001b[32m━━━━━━━━━━━━━━━━━━━━\u001b[0m\u001b[37m\u001b[0m \u001b[1m2s\u001b[0m 540ms/step - accuracy: 0.6001 - loss: 0.6925 - val_accuracy: 0.5217 - val_loss: 0.6930\n",
      "Epoch 13/50\n",
      "\u001b[1m3/3\u001b[0m \u001b[32m━━━━━━━━━━━━━━━━━━━━\u001b[0m\u001b[37m\u001b[0m \u001b[1m2s\u001b[0m 540ms/step - accuracy: 0.6080 - loss: 0.6923 - val_accuracy: 0.5217 - val_loss: 0.6930\n",
      "Epoch 14/50\n",
      "\u001b[1m3/3\u001b[0m \u001b[32m━━━━━━━━━━━━━━━━━━━━\u001b[0m\u001b[37m\u001b[0m \u001b[1m2s\u001b[0m 542ms/step - accuracy: 0.5767 - loss: 0.6924 - val_accuracy: 0.5217 - val_loss: 0.6929\n",
      "Epoch 15/50\n",
      "\u001b[1m3/3\u001b[0m \u001b[32m━━━━━━━━━━━━━━━━━━━━\u001b[0m\u001b[37m\u001b[0m \u001b[1m2s\u001b[0m 539ms/step - accuracy: 0.6158 - loss: 0.6918 - val_accuracy: 0.5217 - val_loss: 0.6929\n",
      "Epoch 16/50\n",
      "\u001b[1m3/3\u001b[0m \u001b[32m━━━━━━━━━━━━━━━━━━━━\u001b[0m\u001b[37m\u001b[0m \u001b[1m2s\u001b[0m 542ms/step - accuracy: 0.5923 - loss: 0.6919 - val_accuracy: 0.5217 - val_loss: 0.6928\n",
      "Epoch 17/50\n",
      "\u001b[1m3/3\u001b[0m \u001b[32m━━━━━━━━━━━━━━━━━━━━\u001b[0m\u001b[37m\u001b[0m \u001b[1m2s\u001b[0m 567ms/step - accuracy: 0.5845 - loss: 0.6918 - val_accuracy: 0.5217 - val_loss: 0.6928\n",
      "Epoch 18/50\n",
      "\u001b[1m3/3\u001b[0m \u001b[32m━━━━━━━━━━━━━━━━━━━━\u001b[0m\u001b[37m\u001b[0m \u001b[1m2s\u001b[0m 536ms/step - accuracy: 0.5962 - loss: 0.6914 - val_accuracy: 0.5217 - val_loss: 0.6927\n",
      "Epoch 19/50\n",
      "\u001b[1m3/3\u001b[0m \u001b[32m━━━━━━━━━━━━━━━━━━━━\u001b[0m\u001b[37m\u001b[0m \u001b[1m2s\u001b[0m 542ms/step - accuracy: 0.6040 - loss: 0.6909 - val_accuracy: 0.5217 - val_loss: 0.6927\n",
      "Epoch 20/50\n",
      "\u001b[1m3/3\u001b[0m \u001b[32m━━━━━━━━━━━━━━━━━━━━\u001b[0m\u001b[37m\u001b[0m \u001b[1m2s\u001b[0m 539ms/step - accuracy: 0.6001 - loss: 0.6907 - val_accuracy: 0.5217 - val_loss: 0.6926\n",
      "Epoch 21/50\n",
      "\u001b[1m3/3\u001b[0m \u001b[32m━━━━━━━━━━━━━━━━━━━━\u001b[0m\u001b[37m\u001b[0m \u001b[1m2s\u001b[0m 544ms/step - accuracy: 0.6040 - loss: 0.6904 - val_accuracy: 0.5217 - val_loss: 0.6926\n",
      "Epoch 22/50\n",
      "\u001b[1m3/3\u001b[0m \u001b[32m━━━━━━━━━━━━━━━━━━━━\u001b[0m\u001b[37m\u001b[0m \u001b[1m2s\u001b[0m 540ms/step - accuracy: 0.5923 - loss: 0.6905 - val_accuracy: 0.5217 - val_loss: 0.6926\n",
      "Epoch 23/50\n",
      "\u001b[1m3/3\u001b[0m \u001b[32m━━━━━━━━━━━━━━━━━━━━\u001b[0m\u001b[37m\u001b[0m \u001b[1m2s\u001b[0m 538ms/step - accuracy: 0.5923 - loss: 0.6901 - val_accuracy: 0.5217 - val_loss: 0.6925\n",
      "Epoch 24/50\n",
      "\u001b[1m3/3\u001b[0m \u001b[32m━━━━━━━━━━━━━━━━━━━━\u001b[0m\u001b[37m\u001b[0m \u001b[1m2s\u001b[0m 541ms/step - accuracy: 0.5650 - loss: 0.6908 - val_accuracy: 0.5217 - val_loss: 0.6925\n",
      "Epoch 25/50\n",
      "\u001b[1m3/3\u001b[0m \u001b[32m━━━━━━━━━━━━━━━━━━━━\u001b[0m\u001b[37m\u001b[0m \u001b[1m2s\u001b[0m 534ms/step - accuracy: 0.5845 - loss: 0.6898 - val_accuracy: 0.5217 - val_loss: 0.6924\n",
      "Epoch 26/50\n",
      "\u001b[1m3/3\u001b[0m \u001b[32m━━━━━━━━━━━━━━━━━━━━\u001b[0m\u001b[37m\u001b[0m \u001b[1m2s\u001b[0m 536ms/step - accuracy: 0.5884 - loss: 0.6893 - val_accuracy: 0.5217 - val_loss: 0.6924\n",
      "Epoch 27/50\n",
      "\u001b[1m3/3\u001b[0m \u001b[32m━━━━━━━━━━━━━━━━━━━━\u001b[0m\u001b[37m\u001b[0m \u001b[1m2s\u001b[0m 551ms/step - accuracy: 0.5806 - loss: 0.6892 - val_accuracy: 0.5217 - val_loss: 0.6923\n",
      "Epoch 28/50\n",
      "\u001b[1m3/3\u001b[0m \u001b[32m━━━━━━━━━━━━━━━━━━━━\u001b[0m\u001b[37m\u001b[0m \u001b[1m2s\u001b[0m 543ms/step - accuracy: 0.5845 - loss: 0.6887 - val_accuracy: 0.5217 - val_loss: 0.6923\n",
      "Epoch 29/50\n",
      "\u001b[1m3/3\u001b[0m \u001b[32m━━━━━━━━━━━━━━━━━━━━\u001b[0m\u001b[37m\u001b[0m \u001b[1m2s\u001b[0m 535ms/step - accuracy: 0.5767 - loss: 0.6890 - val_accuracy: 0.5217 - val_loss: 0.6923\n",
      "Epoch 30/50\n",
      "\u001b[1m3/3\u001b[0m \u001b[32m━━━━━━━━━━━━━━━━━━━━\u001b[0m\u001b[37m\u001b[0m \u001b[1m2s\u001b[0m 536ms/step - accuracy: 0.5884 - loss: 0.6881 - val_accuracy: 0.5217 - val_loss: 0.6923\n",
      "Epoch 31/50\n",
      "\u001b[1m3/3\u001b[0m \u001b[32m━━━━━━━━━━━━━━━━━━━━\u001b[0m\u001b[37m\u001b[0m \u001b[1m2s\u001b[0m 542ms/step - accuracy: 0.6314 - loss: 0.6851 - val_accuracy: 0.5217 - val_loss: 0.6922\n",
      "Epoch 32/50\n",
      "\u001b[1m3/3\u001b[0m \u001b[32m━━━━━━━━━━━━━━━━━━━━\u001b[0m\u001b[37m\u001b[0m \u001b[1m2s\u001b[0m 539ms/step - accuracy: 0.6236 - loss: 0.6850 - val_accuracy: 0.5217 - val_loss: 0.6922\n",
      "Epoch 33/50\n",
      "\u001b[1m3/3\u001b[0m \u001b[32m━━━━━━━━━━━━━━━━━━━━\u001b[0m\u001b[37m\u001b[0m \u001b[1m2s\u001b[0m 539ms/step - accuracy: 0.6001 - loss: 0.6863 - val_accuracy: 0.5217 - val_loss: 0.6922\n",
      "Epoch 34/50\n",
      "\u001b[1m3/3\u001b[0m \u001b[32m━━━━━━━━━━━━━━━━━━━━\u001b[0m\u001b[37m\u001b[0m \u001b[1m2s\u001b[0m 546ms/step - accuracy: 0.5923 - loss: 0.6866 - val_accuracy: 0.5217 - val_loss: 0.6922\n",
      "Epoch 35/50\n",
      "\u001b[1m3/3\u001b[0m \u001b[32m━━━━━━━━━━━━━━━━━━━━\u001b[0m\u001b[37m\u001b[0m \u001b[1m2s\u001b[0m 537ms/step - accuracy: 0.5884 - loss: 0.6866 - val_accuracy: 0.5217 - val_loss: 0.6922\n",
      "Epoch 36/50\n",
      "\u001b[1m3/3\u001b[0m \u001b[32m━━━━━━━━━━━━━━━━━━━━\u001b[0m\u001b[37m\u001b[0m \u001b[1m2s\u001b[0m 543ms/step - accuracy: 0.5884 - loss: 0.6863 - val_accuracy: 0.5217 - val_loss: 0.6922\n",
      "Epoch 37/50\n",
      "\u001b[1m3/3\u001b[0m \u001b[32m━━━━━━━━━━━━━━━━━━━━\u001b[0m\u001b[37m\u001b[0m \u001b[1m2s\u001b[0m 539ms/step - accuracy: 0.5845 - loss: 0.6862 - val_accuracy: 0.5217 - val_loss: 0.6922\n",
      "Epoch 38/50\n",
      "\u001b[1m3/3\u001b[0m \u001b[32m━━━━━━━━━━━━━━━━━━━━\u001b[0m\u001b[37m\u001b[0m \u001b[1m2s\u001b[0m 534ms/step - accuracy: 0.5611 - loss: 0.6881 - val_accuracy: 0.5217 - val_loss: 0.6923\n",
      "Epoch 39/50\n",
      "\u001b[1m3/3\u001b[0m \u001b[32m━━━━━━━━━━━━━━━━━━━━\u001b[0m\u001b[37m\u001b[0m \u001b[1m2s\u001b[0m 536ms/step - accuracy: 0.6275 - loss: 0.6810 - val_accuracy: 0.5217 - val_loss: 0.6923\n",
      "Epoch 40/50\n",
      "\u001b[1m3/3\u001b[0m \u001b[32m━━━━━━━━━━━━━━━━━━━━\u001b[0m\u001b[37m\u001b[0m \u001b[1m2s\u001b[0m 557ms/step - accuracy: 0.6080 - loss: 0.6825 - val_accuracy: 0.5217 - val_loss: 0.6923\n",
      "Epoch 41/50\n",
      "\u001b[1m3/3\u001b[0m \u001b[32m━━━━━━━━━━━━━━━━━━━━\u001b[0m\u001b[37m\u001b[0m \u001b[1m2s\u001b[0m 530ms/step - accuracy: 0.5884 - loss: 0.6842 - val_accuracy: 0.5217 - val_loss: 0.6924\n",
      "Epoch 42/50\n",
      "\u001b[1m3/3\u001b[0m \u001b[32m━━━━━━━━━━━━━━━━━━━━\u001b[0m\u001b[37m\u001b[0m \u001b[1m2s\u001b[0m 541ms/step - accuracy: 0.5806 - loss: 0.6848 - val_accuracy: 0.5217 - val_loss: 0.6925\n",
      "Epoch 43/50\n",
      "\u001b[1m3/3\u001b[0m \u001b[32m━━━━━━━━━━━━━━━━━━━━\u001b[0m\u001b[37m\u001b[0m \u001b[1m2s\u001b[0m 548ms/step - accuracy: 0.5923 - loss: 0.6828 - val_accuracy: 0.5217 - val_loss: 0.6926\n",
      "Epoch 44/50\n",
      "\u001b[1m3/3\u001b[0m \u001b[32m━━━━━━━━━━━━━━━━━━━━\u001b[0m\u001b[37m\u001b[0m \u001b[1m2s\u001b[0m 548ms/step - accuracy: 0.5650 - loss: 0.6862 - val_accuracy: 0.5217 - val_loss: 0.6928\n",
      "Epoch 45/50\n",
      "\u001b[1m3/3\u001b[0m \u001b[32m━━━━━━━━━━━━━━━━━━━━\u001b[0m\u001b[37m\u001b[0m \u001b[1m2s\u001b[0m 537ms/step - accuracy: 0.5767 - loss: 0.6841 - val_accuracy: 0.5217 - val_loss: 0.6929\n",
      "Epoch 46/50\n",
      "\u001b[1m3/3\u001b[0m \u001b[32m━━━━━━━━━━━━━━━━━━━━\u001b[0m\u001b[37m\u001b[0m \u001b[1m2s\u001b[0m 557ms/step - accuracy: 0.6236 - loss: 0.6764 - val_accuracy: 0.5217 - val_loss: 0.6931\n",
      "Epoch 47/50\n",
      "\u001b[1m3/3\u001b[0m \u001b[32m━━━━━━━━━━━━━━━━━━━━\u001b[0m\u001b[37m\u001b[0m \u001b[1m2s\u001b[0m 547ms/step - accuracy: 0.5494 - loss: 0.6882 - val_accuracy: 0.5217 - val_loss: 0.6932\n",
      "Epoch 48/50\n",
      "\u001b[1m3/3\u001b[0m \u001b[32m━━━━━━━━━━━━━━━━━━━━\u001b[0m\u001b[37m\u001b[0m \u001b[1m2s\u001b[0m 537ms/step - accuracy: 0.5884 - loss: 0.6813 - val_accuracy: 0.5217 - val_loss: 0.6934\n",
      "Epoch 49/50\n",
      "\u001b[1m3/3\u001b[0m \u001b[32m━━━━━━━━━━━━━━━━━━━━\u001b[0m\u001b[37m\u001b[0m \u001b[1m2s\u001b[0m 549ms/step - accuracy: 0.6119 - loss: 0.6767 - val_accuracy: 0.5217 - val_loss: 0.6937\n",
      "Epoch 50/50\n",
      "\u001b[1m3/3\u001b[0m \u001b[32m━━━━━━━━━━━━━━━━━━━━\u001b[0m\u001b[37m\u001b[0m \u001b[1m2s\u001b[0m 543ms/step - accuracy: 0.6158 - loss: 0.6752 - val_accuracy: 0.5217 - val_loss: 0.6940\n"
     ]
    }
   ],
   "source": [
    "# Train the model\n",
    "if(activation == \"softmax\"):\n",
    "    y_train = to_categorical(y_train, num_classes=2)  # Convert to one-hot encoding\n",
    "    y_test = to_categorical(y_test, num_classes=2)  # Convert to one-hot encoding\n",
    "\n",
    "history = model.fit(X_train, y_train, epochs=50,  validation_data=(X_test, y_test))"
   ]
  },
  {
   "cell_type": "markdown",
   "id": "2b88ce7a-210d-47ed-adbf-d125d82bcce0",
   "metadata": {},
   "source": [
    "#### Evaluate Model"
   ]
  },
  {
   "cell_type": "code",
   "execution_count": 22,
   "id": "e3de0b37-55a5-4f59-9860-e495c7f099bd",
   "metadata": {},
   "outputs": [
    {
     "name": "stdout",
     "output_type": "stream",
     "text": [
      "1/1 - 1s - 1s/step - accuracy: 0.4783 - loss: 2.6114\n",
      "0.47826087474823\n"
     ]
    }
   ],
   "source": [
    "test_loss, test_acc = model.evaluate(X_test,  y_test, verbose=2)\n",
    "print(test_acc)\n",
    "\n",
    "from sklearn.metrics import confusion_matrix"
   ]
  },
  {
   "cell_type": "code",
   "execution_count": 19,
   "id": "2b6b8363-0a8d-4000-8e4f-06a0e7eb0c75",
   "metadata": {},
   "outputs": [
    {
     "data": {
      "text/plain": [
       "<matplotlib.legend.Legend at 0x70a8e8126170>"
      ]
     },
     "execution_count": 19,
     "metadata": {},
     "output_type": "execute_result"
    },
    {
     "data": {
      "image/png": "[encoded data removed]",
      "text/plain": [
       "<Figure size 640x480 with 1 Axes>"
      ]
     },
     "metadata": {},
     "output_type": "display_data"
    }
   ],
   "source": [
    "# plot the results\n",
    "plt.plot(history.history['accuracy'], label='accuracy')\n",
    "plt.plot(history.history['val_accuracy'], label = 'val_accuracy')\n",
    "plt.xlabel('Epoch')\n",
    "plt.ylabel('Accuracy')\n",
    "plt.ylim([0.5, 1])\n",
    "plt.legend(loc='lower right')\n"
   ]
  },
  {
   "cell_type": "code",
   "execution_count": null,
   "id": "a3ad562b-73d6-446e-be14-c1643b96620e",
   "metadata": {},
   "outputs": [],
   "source": []
  }
 ],
 "metadata": {
  "kernelspec": {
   "display_name": "Python 3 (ipykernel)",
   "language": "python",
   "name": "python3"
  },
  "language_info": {
   "codemirror_mode": {
    "name": "ipython",
    "version": 3
   },
   "file_extension": ".py",
   "mimetype": "text/x-python",
   "name": "python",
   "nbconvert_exporter": "python",
   "pygments_lexer": "ipython3",
   "version": "3.10.12"
  }
 },
 "nbformat": 4,
 "nbformat_minor": 5
}
