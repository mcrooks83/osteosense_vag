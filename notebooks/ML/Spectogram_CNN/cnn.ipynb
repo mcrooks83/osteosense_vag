{
 "cells": [
  {
   "cell_type": "code",
   "execution_count": 1,
   "id": "83567172-4760-4c58-af47-0e7af78183f5",
   "metadata": {},
   "outputs": [
    {
     "name": "stderr",
     "output_type": "stream",
     "text": [
      "2024-10-08 11:46:02.953647: I tensorflow/core/util/port.cc:153] oneDNN custom operations are on. You may see slightly different numerical results due to floating-point round-off errors from different computation orders. To turn them off, set the environment variable `TF_ENABLE_ONEDNN_OPTS=0`.\n",
      "2024-10-08 11:46:02.953975: I external/local_xla/xla/tsl/cuda/cudart_stub.cc:32] Could not find cuda drivers on your machine, GPU will not be used.\n",
      "2024-10-08 11:46:02.955777: I external/local_xla/xla/tsl/cuda/cudart_stub.cc:32] Could not find cuda drivers on your machine, GPU will not be used.\n",
      "2024-10-08 11:46:02.961380: E external/local_xla/xla/stream_executor/cuda/cuda_fft.cc:485] Unable to register cuFFT factory: Attempting to register factory for plugin cuFFT when one has already been registered\n",
      "2024-10-08 11:46:02.970594: E external/local_xla/xla/stream_executor/cuda/cuda_dnn.cc:8454] Unable to register cuDNN factory: Attempting to register factory for plugin cuDNN when one has already been registered\n",
      "2024-10-08 11:46:02.973287: E external/local_xla/xla/stream_executor/cuda/cuda_blas.cc:1452] Unable to register cuBLAS factory: Attempting to register factory for plugin cuBLAS when one has already been registered\n",
      "2024-10-08 11:46:02.980071: I tensorflow/core/platform/cpu_feature_guard.cc:210] This TensorFlow binary is optimized to use available CPU instructions in performance-critical operations.\n",
      "To enable the following instructions: AVX2 AVX_VNNI FMA, in other operations, rebuild TensorFlow with the appropriate compiler flags.\n",
      "2024-10-08 11:46:03.386680: W tensorflow/compiler/tf2tensorrt/utils/py_utils.cc:38] TF-TRT Warning: Could not find TensorRT\n"
     ]
    }
   ],
   "source": [
    "import pandas as pd\n",
    "import numpy as np\n",
    "import tensorflow as tf\n",
    "from tensorflow.keras.models import Sequential\n",
    "from tensorflow.keras.layers import Conv2D, MaxPooling2D, Flatten, Dense\n",
    "from tensorflow.keras.utils import to_categorical\n",
    "import matplotlib.pyplot as plt"
   ]
  },
  {
   "cell_type": "code",
   "execution_count": 2,
   "id": "9596ea32-83d4-4e44-8f61-49c160b09396",
   "metadata": {},
   "outputs": [],
   "source": [
    "def read_csv_to_df(path):\n",
    "    return pd.read_csv(path)\n",
    "\n",
    "f_range = (10,950)\n",
    "\n",
    "h_data_path = f\"s_data/healthy_f_{f_range[0]}_{f_range[1]}.csv\"\n",
    "p_data_path = f\"s_data/pathology_f_{f_range[0]}_{f_range[1]}.csv\"\n",
    "\n",
    "h_df = read_csv_to_df(h_data_path)\n",
    "p_df = read_csv_to_df(p_data_path)\n",
    "\n",
    "h_data = []\n",
    "p_data = []\n",
    "\n",
    "for spectrogram_id, group in h_df.groupby('spectrogram_id'):\n",
    "    # Extract frequency, time, and power values\n",
    "    power = []\n",
    "    for f, g in group.groupby(\"frequency\"):\n",
    "        p = g['power']\n",
    "        p_num = p.to_numpy()\n",
    "        power.append(p_num)\n",
    "    p_ = np.array(power)\n",
    "    p_shaped = p_.reshape(p_.shape[0], p_.shape[1], 1)  # Shape will be (129, 41, 1)\n",
    "    h_data.append(p_shaped)\n",
    "\n",
    "for spectrogram_id, group in p_df.groupby('spectrogram_id'):\n",
    "    # Extract frequency, time, and power values\n",
    "    power = []\n",
    "    for f, g in group.groupby(\"frequency\"):\n",
    "        p = g['power']\n",
    "        p_num = p.to_numpy()\n",
    "        power.append(p_num)\n",
    "    p_ = np.array(power)\n",
    "    p_shaped = p_.reshape(p_.shape[0], p_.shape[1], 1)  # Shape will be (129, 41, 1)\n",
    "    p_data.append(p_shaped)"
   ]
  },
  {
   "cell_type": "code",
   "execution_count": 3,
   "id": "01e3ed45-d3d8-4dfa-87cd-abbb28b91bd7",
   "metadata": {},
   "outputs": [
    {
     "name": "stdout",
     "output_type": "stream",
     "text": [
      "Shape of X_class_1: (51, 257, 33, 1)\n",
      "Shape of X_class_0: (38, 257, 33, 1)\n",
      "Shape of X: (89, 257, 33, 1)\n",
      "(89,)\n"
     ]
    }
   ],
   "source": [
    "# Stack the arrays for class 1 and class 0\n",
    "X_class_1 = np.stack(h_data)  # Shape will be (n_samples_1, 129, 41, 1)\n",
    "X_class_0 = np.stack(p_data)  # Shape will be (n_samples_0, 129, 41, 1)\n",
    "\n",
    "# Print shapes to verify\n",
    "print(\"Shape of X_class_1:\", X_class_1.shape)  # Should show (n_samples_1, 129, 41, 1)\n",
    "print(\"Shape of X_class_0:\", X_class_0.shape)  # Should show (n_samples_0, 129, 41, 1)\n",
    "\n",
    "# Concatenate the stacked arrays\n",
    "X = np.concatenate((X_class_0, X_class_1), axis=0)  # Shape will be (total_samples, 129, 41, 1)\n",
    "print(\"Shape of X:\", X.shape) \n",
    "\n",
    "y_class_0 = np.zeros(X_class_0.shape[0])  # Labels for class 0\n",
    "y_class_1 = np.ones(X_class_1.shape[0])   # Labels for class 1\n",
    "y = np.concatenate((y_class_0, y_class_1))  # Combine labels\n",
    "print(y.shape)"
   ]
  },
  {
   "cell_type": "code",
   "execution_count": 4,
   "id": "3c997197-4d48-44a5-bb0e-6bce5d71d563",
   "metadata": {},
   "outputs": [
    {
     "name": "stdout",
     "output_type": "stream",
     "text": [
      "X_train shape: (44, 257, 33, 1)\n",
      "X_test shape: (45, 257, 33, 1)\n",
      "y_train shape: (44,)\n",
      "y_test shape: (45,)\n"
     ]
    }
   ],
   "source": [
    "# train and test data?\n",
    "from sklearn.model_selection import train_test_split\n",
    "\n",
    "# Assuming X is your feature data and y is your label data\n",
    "\n",
    "# Split the data: 80% for training, 20% for testing\n",
    "X_train, X_test, y_train, y_test = train_test_split(X, y, test_size=0.5, shuffle=True,  random_state=42)\n",
    "\n",
    "# Check the shapes of the splits\n",
    "print(\"X_train shape:\", X_train.shape)\n",
    "print(\"X_test shape:\", X_test.shape)\n",
    "print(\"y_train shape:\", y_train.shape)\n",
    "print(\"y_test shape:\", y_test.shape)\n"
   ]
  },
  {
   "cell_type": "code",
   "execution_count": 5,
   "id": "b95ba62e-6a14-4c69-bb26-4b20a3f4d124",
   "metadata": {},
   "outputs": [
    {
     "name": "stdout",
     "output_type": "stream",
     "text": [
      "Shape of X Train: (44, 257, 33, 1)\n",
      "Shape of X Test: (45, 257, 33, 1)\n",
      "Shape of y Train: (44,)\n",
      "Shape of y Test: (45,)\n",
      "Type of X Train: <class 'numpy.ndarray'>\n",
      "Type of X Test: <class 'numpy.ndarray'>\n",
      "y dtype: int32\n",
      "y dtype: int32\n"
     ]
    }
   ],
   "source": [
    "# Shuffle the dataset - this is done by the .fit method potentially?\n",
    "#indices = np.arange(X.shape[0])  # Create an array of indices\n",
    "#np.random.shuffle(indices)  # Shuffle indices\n",
    "#X = X[indices]  # Shuffle the data\n",
    "#y = y[indices]  # Shuffle the labels\n",
    "\n",
    "y_train = np.array(y_train, dtype=np.int32)  # Convert labels to int32\n",
    "y_test = np.array(y_test, dtype=np.int32)  # Convert labels to int32\n",
    "\n",
    "# verify shapes of data and types\n",
    "print(\"Shape of X Train:\", X_train.shape)  # Should be (total_samples, 129, 41, 1)\n",
    "print(\"Shape of X Test:\", X_test.shape)  # Should be (total_samples, 129, 41, 1)\n",
    "print(\"Shape of y Train:\", y_train.shape)  # Should be (total_samples,)\n",
    "print(\"Shape of y Test:\", y_test.shape)  # Should be (total_samples,)\n",
    "print(\"Type of X Train:\", type(X_train))  # Should be <class 'numpy.ndarray'>\n",
    "print(\"Type of X Test:\", type(X_test))  # Should be <class 'numpy.ndarray'>\n",
    "print(\"y dtype:\", y_train.dtype)  # Should show int32\n",
    "print(\"y dtype:\", y_test.dtype)  # Should show int32"
   ]
  },
  {
   "cell_type": "markdown",
   "id": "1a69e164-ae35-40b5-a5e0-226a2eebcb93",
   "metadata": {},
   "source": [
    "#### Define the CNN Model"
   ]
  },
  {
   "cell_type": "code",
   "execution_count": 6,
   "id": "ae7fef27-9819-4352-8eb0-c584e352d3ad",
   "metadata": {},
   "outputs": [
    {
     "name": "stdout",
     "output_type": "stream",
     "text": [
      "softmax\n",
      "<Sequential name=sequential, built=False>\n"
     ]
    }
   ],
   "source": [
    "# try sigmoid and softmax\n",
    "\n",
    "#### last results (restart kernal first) ##################\n",
    "# validation data of 0.1, batch_size 32\n",
    "# 107ms/step - accuracy: 0.9607 - loss: 0.0576  \n",
    "# Loss: 0.11523419618606567, Accuracy: 0.9213483333587646\n",
    "###########################################################\n",
    "\n",
    "#### last results (restart kernal first) ##################\n",
    "# validation data of 0.3, batch_size 32\n",
    "# 105ms/step - accuracy: 0.5795 - loss: 0.6805\n",
    "# Loss: 0.6825977563858032, Accuracy: 0.5730336904525757\n",
    "###########################################################\n",
    "\n",
    "def generate_model(activation):\n",
    "    a = (0,\"\")\n",
    "    if(activation == \"softmax\"):\n",
    "        a = (2, activation)\n",
    "    elif(activation == \"sigmoid\"):\n",
    "        a=(1, activation)\n",
    "    print(a[1])\n",
    "    model = Sequential([\n",
    "        Conv2D(32, (3, 3), activation='relu', ), # no input_shape=(129,41,1)\n",
    "        MaxPooling2D(pool_size=2, strides=1),\n",
    "\n",
    "        Conv2D(64, (3, 3), activation='relu', ), # no input_shape=(129,41,1)\n",
    "        MaxPooling2D(pool_size=2, strides=1),\n",
    "\n",
    "        Conv2D(128, (3, 3), activation='relu', ), # no input_shape=(129,41,1)\n",
    "        MaxPooling2D(pool_size=2, strides=1),\n",
    "\n",
    "        Flatten(),\n",
    "        Dense(256, activation='relu'),\n",
    "        Dense(a[0], activation=a[1])\n",
    "    \n",
    "    ])\n",
    "\n",
    "    return model\n",
    "\n",
    "activation = \"softmax\"\n",
    "model = generate_model(activation)\n",
    "print(model)\n",
    "model.compile(optimizer='adam', loss='binary_crossentropy', metrics=['accuracy'])\n",
    "\n"
   ]
  },
  {
   "cell_type": "markdown",
   "id": "de6c1110-beec-4a89-afb6-77f28a46a9f0",
   "metadata": {},
   "source": [
    "#### Train the model"
   ]
  },
  {
   "cell_type": "code",
   "execution_count": 7,
   "id": "e7a3c38b-60fe-467c-949c-a9e0185b49a7",
   "metadata": {},
   "outputs": [
    {
     "name": "stdout",
     "output_type": "stream",
     "text": [
      "Epoch 1/50\n",
      "\u001b[1m3/3\u001b[0m \u001b[32m━━━━━━━━━━━━━━━━━━━━\u001b[0m\u001b[37m\u001b[0m \u001b[1m7s\u001b[0m 1s/step - accuracy: 0.6463 - loss: 8.5150 - val_accuracy: 0.6667 - val_loss: 35.5597\n",
      "Epoch 2/50\n",
      "\u001b[1m3/3\u001b[0m \u001b[32m━━━━━━━━━━━━━━━━━━━━\u001b[0m\u001b[37m\u001b[0m \u001b[1m4s\u001b[0m 1s/step - accuracy: 0.6115 - loss: 3.7861 - val_accuracy: 0.6444 - val_loss: 9.1644\n",
      "Epoch 3/50\n",
      "\u001b[1m3/3\u001b[0m \u001b[32m━━━━━━━━━━━━━━━━━━━━\u001b[0m\u001b[37m\u001b[0m \u001b[1m4s\u001b[0m 1s/step - accuracy: 0.7188 - loss: 0.5970 - val_accuracy: 0.4889 - val_loss: 6.8499\n",
      "Epoch 4/50\n",
      "\u001b[1m3/3\u001b[0m \u001b[32m━━━━━━━━━━━━━━━━━━━━\u001b[0m\u001b[37m\u001b[0m \u001b[1m4s\u001b[0m 1s/step - accuracy: 0.8267 - loss: 0.3204 - val_accuracy: 0.6667 - val_loss: 12.5714\n",
      "Epoch 5/50\n",
      "\u001b[1m3/3\u001b[0m \u001b[32m━━━━━━━━━━━━━━━━━━━━\u001b[0m\u001b[37m\u001b[0m \u001b[1m4s\u001b[0m 1s/step - accuracy: 0.9389 - loss: 0.2525 - val_accuracy: 0.5111 - val_loss: 17.5093\n",
      "Epoch 6/50\n",
      "\u001b[1m3/3\u001b[0m \u001b[32m━━━━━━━━━━━━━━━━━━━━\u001b[0m\u001b[37m\u001b[0m \u001b[1m4s\u001b[0m 1s/step - accuracy: 0.9652 - loss: 0.2242 - val_accuracy: 0.6444 - val_loss: 19.8066\n",
      "Epoch 7/50\n",
      "\u001b[1m3/3\u001b[0m \u001b[32m━━━━━━━━━━━━━━━━━━━━\u001b[0m\u001b[37m\u001b[0m \u001b[1m4s\u001b[0m 1s/step - accuracy: 0.9808 - loss: 0.1305 - val_accuracy: 0.5111 - val_loss: 22.3045\n",
      "Epoch 8/50\n",
      "\u001b[1m3/3\u001b[0m \u001b[32m━━━━━━━━━━━━━━━━━━━━\u001b[0m\u001b[37m\u001b[0m \u001b[1m4s\u001b[0m 1s/step - accuracy: 0.9425 - loss: 0.1079 - val_accuracy: 0.5556 - val_loss: 25.6454\n",
      "Epoch 9/50\n",
      "\u001b[1m3/3\u001b[0m \u001b[32m━━━━━━━━━━━━━━━━━━━━\u001b[0m\u001b[37m\u001b[0m \u001b[1m4s\u001b[0m 1s/step - accuracy: 0.9538 - loss: 0.0764 - val_accuracy: 0.6000 - val_loss: 33.9622\n",
      "Epoch 10/50\n",
      "\u001b[1m3/3\u001b[0m \u001b[32m━━━━━━━━━━━━━━━━━━━━\u001b[0m\u001b[37m\u001b[0m \u001b[1m4s\u001b[0m 1s/step - accuracy: 1.0000 - loss: 0.0402 - val_accuracy: 0.6000 - val_loss: 38.2945\n",
      "Epoch 11/50\n",
      "\u001b[1m3/3\u001b[0m \u001b[32m━━━━━━━━━━━━━━━━━━━━\u001b[0m\u001b[37m\u001b[0m \u001b[1m4s\u001b[0m 1s/step - accuracy: 0.9808 - loss: 0.0271 - val_accuracy: 0.5333 - val_loss: 41.1543\n",
      "Epoch 12/50\n",
      "\u001b[1m3/3\u001b[0m \u001b[32m━━━━━━━━━━━━━━━━━━━━\u001b[0m\u001b[37m\u001b[0m \u001b[1m4s\u001b[0m 1s/step - accuracy: 1.0000 - loss: 0.0084 - val_accuracy: 0.5111 - val_loss: 44.3563\n",
      "Epoch 13/50\n",
      "\u001b[1m3/3\u001b[0m \u001b[32m━━━━━━━━━━━━━━━━━━━━\u001b[0m\u001b[37m\u001b[0m \u001b[1m4s\u001b[0m 1s/step - accuracy: 1.0000 - loss: 0.0134 - val_accuracy: 0.5556 - val_loss: 49.3856\n",
      "Epoch 14/50\n",
      "\u001b[1m3/3\u001b[0m \u001b[32m━━━━━━━━━━━━━━━━━━━━\u001b[0m\u001b[37m\u001b[0m \u001b[1m4s\u001b[0m 1s/step - accuracy: 1.0000 - loss: 0.0279 - val_accuracy: 0.7111 - val_loss: 50.2565\n",
      "Epoch 15/50\n",
      "\u001b[1m3/3\u001b[0m \u001b[32m━━━━━━━━━━━━━━━━━━━━\u001b[0m\u001b[37m\u001b[0m \u001b[1m4s\u001b[0m 1s/step - accuracy: 1.0000 - loss: 0.0260 - val_accuracy: 0.6444 - val_loss: 46.2740\n",
      "Epoch 16/50\n",
      "\u001b[1m3/3\u001b[0m \u001b[32m━━━━━━━━━━━━━━━━━━━━\u001b[0m\u001b[37m\u001b[0m \u001b[1m4s\u001b[0m 1s/step - accuracy: 1.0000 - loss: 0.0099 - val_accuracy: 0.6667 - val_loss: 43.9883\n",
      "Epoch 17/50\n",
      "\u001b[1m3/3\u001b[0m \u001b[32m━━━━━━━━━━━━━━━━━━━━\u001b[0m\u001b[37m\u001b[0m \u001b[1m4s\u001b[0m 1s/step - accuracy: 0.9773 - loss: 0.1332 - val_accuracy: 0.6222 - val_loss: 48.4138\n",
      "Epoch 18/50\n",
      "\u001b[1m3/3\u001b[0m \u001b[32m━━━━━━━━━━━━━━━━━━━━\u001b[0m\u001b[37m\u001b[0m \u001b[1m4s\u001b[0m 1s/step - accuracy: 0.9467 - loss: 0.1481 - val_accuracy: 0.6444 - val_loss: 69.0066\n",
      "Epoch 19/50\n",
      "\u001b[1m3/3\u001b[0m \u001b[32m━━━━━━━━━━━━━━━━━━━━\u001b[0m\u001b[37m\u001b[0m \u001b[1m4s\u001b[0m 1s/step - accuracy: 0.9460 - loss: 0.1993 - val_accuracy: 0.5556 - val_loss: 63.1999\n",
      "Epoch 20/50\n",
      "\u001b[1m3/3\u001b[0m \u001b[32m━━━━━━━━━━━━━━━━━━━━\u001b[0m\u001b[37m\u001b[0m \u001b[1m4s\u001b[0m 1s/step - accuracy: 1.0000 - loss: 0.0273 - val_accuracy: 0.5111 - val_loss: 62.7109\n",
      "Epoch 21/50\n",
      "\u001b[1m3/3\u001b[0m \u001b[32m━━━━━━━━━━━━━━━━━━━━\u001b[0m\u001b[37m\u001b[0m \u001b[1m4s\u001b[0m 1s/step - accuracy: 0.9155 - loss: 0.0962 - val_accuracy: 0.5778 - val_loss: 59.4122\n",
      "Epoch 22/50\n",
      "\u001b[1m3/3\u001b[0m \u001b[32m━━━━━━━━━━━━━━━━━━━━\u001b[0m\u001b[37m\u001b[0m \u001b[1m4s\u001b[0m 1s/step - accuracy: 1.0000 - loss: 0.0161 - val_accuracy: 0.6000 - val_loss: 57.8058\n",
      "Epoch 23/50\n",
      "\u001b[1m3/3\u001b[0m \u001b[32m━━━━━━━━━━━━━━━━━━━━\u001b[0m\u001b[37m\u001b[0m \u001b[1m4s\u001b[0m 1s/step - accuracy: 0.9808 - loss: 0.0815 - val_accuracy: 0.5333 - val_loss: 60.9266\n",
      "Epoch 24/50\n",
      "\u001b[1m3/3\u001b[0m \u001b[32m━━━━━━━━━━━━━━━━━━━━\u001b[0m\u001b[37m\u001b[0m \u001b[1m4s\u001b[0m 1s/step - accuracy: 1.0000 - loss: 0.0477 - val_accuracy: 0.5556 - val_loss: 60.8538\n",
      "Epoch 25/50\n",
      "\u001b[1m3/3\u001b[0m \u001b[32m━━━━━━━━━━━━━━━━━━━━\u001b[0m\u001b[37m\u001b[0m \u001b[1m4s\u001b[0m 1s/step - accuracy: 0.9808 - loss: 0.1844 - val_accuracy: 0.5333 - val_loss: 58.3080\n",
      "Epoch 26/50\n",
      "\u001b[1m3/3\u001b[0m \u001b[32m━━━━━━━━━━━━━━━━━━━━\u001b[0m\u001b[37m\u001b[0m \u001b[1m4s\u001b[0m 1s/step - accuracy: 1.0000 - loss: 0.0194 - val_accuracy: 0.6000 - val_loss: 60.9412\n",
      "Epoch 27/50\n",
      "\u001b[1m3/3\u001b[0m \u001b[32m━━━━━━━━━━━━━━━━━━━━\u001b[0m\u001b[37m\u001b[0m \u001b[1m4s\u001b[0m 1s/step - accuracy: 1.0000 - loss: 0.0371 - val_accuracy: 0.6222 - val_loss: 62.3744\n",
      "Epoch 28/50\n",
      "\u001b[1m3/3\u001b[0m \u001b[32m━━━━━━━━━━━━━━━━━━━━\u001b[0m\u001b[37m\u001b[0m \u001b[1m4s\u001b[0m 1s/step - accuracy: 1.0000 - loss: 0.0161 - val_accuracy: 0.5333 - val_loss: 61.8014\n",
      "Epoch 29/50\n",
      "\u001b[1m3/3\u001b[0m \u001b[32m━━━━━━━━━━━━━━━━━━━━\u001b[0m\u001b[37m\u001b[0m \u001b[1m4s\u001b[0m 1s/step - accuracy: 1.0000 - loss: 0.0118 - val_accuracy: 0.5111 - val_loss: 61.6452\n",
      "Epoch 30/50\n",
      "\u001b[1m3/3\u001b[0m \u001b[32m━━━━━━━━━━━━━━━━━━━━\u001b[0m\u001b[37m\u001b[0m \u001b[1m4s\u001b[0m 1s/step - accuracy: 1.0000 - loss: 0.0090 - val_accuracy: 0.5556 - val_loss: 62.5020\n",
      "Epoch 31/50\n",
      "\u001b[1m3/3\u001b[0m \u001b[32m━━━━━━━━━━━━━━━━━━━━\u001b[0m\u001b[37m\u001b[0m \u001b[1m4s\u001b[0m 1s/step - accuracy: 1.0000 - loss: 0.0024 - val_accuracy: 0.5333 - val_loss: 64.0466\n",
      "Epoch 32/50\n",
      "\u001b[1m3/3\u001b[0m \u001b[32m━━━━━━━━━━━━━━━━━━━━\u001b[0m\u001b[37m\u001b[0m \u001b[1m4s\u001b[0m 1s/step - accuracy: 1.0000 - loss: 0.0023 - val_accuracy: 0.5556 - val_loss: 64.8902\n",
      "Epoch 33/50\n",
      "\u001b[1m3/3\u001b[0m \u001b[32m━━━━━━━━━━━━━━━━━━━━\u001b[0m\u001b[37m\u001b[0m \u001b[1m4s\u001b[0m 1s/step - accuracy: 1.0000 - loss: 0.0016 - val_accuracy: 0.5556 - val_loss: 65.2519\n",
      "Epoch 34/50\n",
      "\u001b[1m3/3\u001b[0m \u001b[32m━━━━━━━━━━━━━━━━━━━━\u001b[0m\u001b[37m\u001b[0m \u001b[1m4s\u001b[0m 1s/step - accuracy: 1.0000 - loss: 0.0011 - val_accuracy: 0.5333 - val_loss: 65.3090\n",
      "Epoch 35/50\n",
      "\u001b[1m3/3\u001b[0m \u001b[32m━━━━━━━━━━━━━━━━━━━━\u001b[0m\u001b[37m\u001b[0m \u001b[1m4s\u001b[0m 1s/step - accuracy: 1.0000 - loss: 8.0548e-04 - val_accuracy: 0.5333 - val_loss: 65.3169\n",
      "Epoch 36/50\n",
      "\u001b[1m3/3\u001b[0m \u001b[32m━━━━━━━━━━━━━━━━━━━━\u001b[0m\u001b[37m\u001b[0m \u001b[1m4s\u001b[0m 1s/step - accuracy: 1.0000 - loss: 7.4491e-04 - val_accuracy: 0.5111 - val_loss: 65.3766\n",
      "Epoch 37/50\n",
      "\u001b[1m3/3\u001b[0m \u001b[32m━━━━━━━━━━━━━━━━━━━━\u001b[0m\u001b[37m\u001b[0m \u001b[1m4s\u001b[0m 1s/step - accuracy: 1.0000 - loss: 4.9776e-04 - val_accuracy: 0.5111 - val_loss: 65.5213\n",
      "Epoch 38/50\n",
      "\u001b[1m3/3\u001b[0m \u001b[32m━━━━━━━━━━━━━━━━━━━━\u001b[0m\u001b[37m\u001b[0m \u001b[1m4s\u001b[0m 1s/step - accuracy: 1.0000 - loss: 5.0532e-04 - val_accuracy: 0.5111 - val_loss: 65.6757\n",
      "Epoch 39/50\n",
      "\u001b[1m3/3\u001b[0m \u001b[32m━━━━━━━━━━━━━━━━━━━━\u001b[0m\u001b[37m\u001b[0m \u001b[1m4s\u001b[0m 1s/step - accuracy: 1.0000 - loss: 5.1758e-04 - val_accuracy: 0.5111 - val_loss: 65.8556\n",
      "Epoch 40/50\n",
      "\u001b[1m3/3\u001b[0m \u001b[32m━━━━━━━━━━━━━━━━━━━━\u001b[0m\u001b[37m\u001b[0m \u001b[1m4s\u001b[0m 1s/step - accuracy: 1.0000 - loss: 5.8301e-04 - val_accuracy: 0.5111 - val_loss: 66.0040\n",
      "Epoch 41/50\n",
      "\u001b[1m3/3\u001b[0m \u001b[32m━━━━━━━━━━━━━━━━━━━━\u001b[0m\u001b[37m\u001b[0m \u001b[1m4s\u001b[0m 1s/step - accuracy: 1.0000 - loss: 3.4343e-04 - val_accuracy: 0.5333 - val_loss: 66.1528\n",
      "Epoch 42/50\n",
      "\u001b[1m3/3\u001b[0m \u001b[32m━━━━━━━━━━━━━━━━━━━━\u001b[0m\u001b[37m\u001b[0m \u001b[1m4s\u001b[0m 1s/step - accuracy: 1.0000 - loss: 3.8719e-04 - val_accuracy: 0.5333 - val_loss: 66.2526\n",
      "Epoch 43/50\n",
      "\u001b[1m3/3\u001b[0m \u001b[32m━━━━━━━━━━━━━━━━━━━━\u001b[0m\u001b[37m\u001b[0m \u001b[1m4s\u001b[0m 1s/step - accuracy: 1.0000 - loss: 2.7079e-04 - val_accuracy: 0.5333 - val_loss: 66.3086\n",
      "Epoch 44/50\n",
      "\u001b[1m3/3\u001b[0m \u001b[32m━━━━━━━━━━━━━━━━━━━━\u001b[0m\u001b[37m\u001b[0m \u001b[1m4s\u001b[0m 1s/step - accuracy: 1.0000 - loss: 3.6827e-04 - val_accuracy: 0.5333 - val_loss: 66.3455\n",
      "Epoch 45/50\n",
      "\u001b[1m3/3\u001b[0m \u001b[32m━━━━━━━━━━━━━━━━━━━━\u001b[0m\u001b[37m\u001b[0m \u001b[1m4s\u001b[0m 1s/step - accuracy: 1.0000 - loss: 2.7497e-04 - val_accuracy: 0.5333 - val_loss: 66.3938\n",
      "Epoch 46/50\n",
      "\u001b[1m3/3\u001b[0m \u001b[32m━━━━━━━━━━━━━━━━━━━━\u001b[0m\u001b[37m\u001b[0m \u001b[1m4s\u001b[0m 1s/step - accuracy: 1.0000 - loss: 2.3767e-04 - val_accuracy: 0.5333 - val_loss: 66.4129\n",
      "Epoch 47/50\n",
      "\u001b[1m3/3\u001b[0m \u001b[32m━━━━━━━━━━━━━━━━━━━━\u001b[0m\u001b[37m\u001b[0m \u001b[1m4s\u001b[0m 1s/step - accuracy: 1.0000 - loss: 2.7822e-04 - val_accuracy: 0.5333 - val_loss: 66.4048\n",
      "Epoch 48/50\n",
      "\u001b[1m3/3\u001b[0m \u001b[32m━━━━━━━━━━━━━━━━━━━━\u001b[0m\u001b[37m\u001b[0m \u001b[1m4s\u001b[0m 1s/step - accuracy: 1.0000 - loss: 2.4831e-04 - val_accuracy: 0.5333 - val_loss: 66.4004\n",
      "Epoch 49/50\n",
      "\u001b[1m3/3\u001b[0m \u001b[32m━━━━━━━━━━━━━━━━━━━━\u001b[0m\u001b[37m\u001b[0m \u001b[1m4s\u001b[0m 1s/step - accuracy: 1.0000 - loss: 1.9155e-04 - val_accuracy: 0.5333 - val_loss: 66.3875\n",
      "Epoch 50/50\n",
      "\u001b[1m3/3\u001b[0m \u001b[32m━━━━━━━━━━━━━━━━━━━━\u001b[0m\u001b[37m\u001b[0m \u001b[1m4s\u001b[0m 1s/step - accuracy: 1.0000 - loss: 1.7797e-04 - val_accuracy: 0.5333 - val_loss: 66.3946\n"
     ]
    }
   ],
   "source": [
    "# Train the model\n",
    "if(activation == \"softmax\"):\n",
    "    y_train = to_categorical(y_train, num_classes=2)  # Convert to one-hot encoding\n",
    "    y_test = to_categorical(y_test, num_classes=2)  # Convert to one-hot encoding\n",
    "\n",
    "history = model.fit(X_train, y_train, epochs=50, batch_size=16, validation_data=(X_test, y_test))"
   ]
  },
  {
   "cell_type": "markdown",
   "id": "2b88ce7a-210d-47ed-adbf-d125d82bcce0",
   "metadata": {},
   "source": [
    "#### Evaluate Model"
   ]
  },
  {
   "cell_type": "code",
   "execution_count": 9,
   "id": "e3de0b37-55a5-4f59-9860-e495c7f099bd",
   "metadata": {},
   "outputs": [
    {
     "name": "stdout",
     "output_type": "stream",
     "text": [
      "2/2 - 0s - 132ms/step - accuracy: 0.5333 - loss: 66.3946\n",
      "0.5333333611488342\n"
     ]
    }
   ],
   "source": [
    "test_loss, test_acc = model.evaluate(X_test,  y_test, verbose=2)\n",
    "print(test_acc)\n",
    "\n",
    "from sklearn.metrics import confusion_matrix"
   ]
  },
  {
   "cell_type": "code",
   "execution_count": 9,
   "id": "2b6b8363-0a8d-4000-8e4f-06a0e7eb0c75",
   "metadata": {},
   "outputs": [
    {
     "data": {
      "text/plain": [
       "<matplotlib.legend.Legend at 0x7bad22da2c20>"
      ]
     },
     "execution_count": 9,
     "metadata": {},
     "output_type": "execute_result"
    },
    {
     "data": {
      "image/png": "[encoded data removed]",
      "text/plain": [
       "<Figure size 640x480 with 1 Axes>"
      ]
     },
     "metadata": {},
     "output_type": "display_data"
    }
   ],
   "source": [
    "# plot the results\n",
    "plt.plot(history.history['accuracy'], label='accuracy')\n",
    "plt.plot(history.history['val_accuracy'], label = 'val_accuracy')\n",
    "plt.xlabel('Epoch')\n",
    "plt.ylabel('Accuracy')\n",
    "plt.ylim([0.5, 1])\n",
    "plt.legend(loc='lower right')\n"
   ]
  },
  {
   "cell_type": "code",
   "execution_count": null,
   "id": "a3ad562b-73d6-446e-be14-c1643b96620e",
   "metadata": {},
   "outputs": [],
   "source": []
  }
 ],
 "metadata": {
  "kernelspec": {
   "display_name": "Python 3 (ipykernel)",
   "language": "python",
   "name": "python3"
  },
  "language_info": {
   "codemirror_mode": {
    "name": "ipython",
    "version": 3
   },
   "file_extension": ".py",
   "mimetype": "text/x-python",
   "name": "python",
   "nbconvert_exporter": "python",
   "pygments_lexer": "ipython3",
   "version": "3.11.8"
  }
 },
 "nbformat": 4,
 "nbformat_minor": 5
}
