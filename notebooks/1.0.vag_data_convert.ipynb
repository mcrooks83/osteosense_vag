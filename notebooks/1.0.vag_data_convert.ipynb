{
 "cells": [
  {
   "cell_type": "code",
   "execution_count": 25,
   "id": "802d64ea-eea8-4a64-8bc6-a41b5daab073",
   "metadata": {},
   "outputs": [],
   "source": [
    "### IMPORTS ###\n",
    "from mmap import mmap, ACCESS_READ\n",
    "from struct import unpack\n",
    "from math import sqrt\n",
    "from glob import glob \n",
    "from os import chdir, listdir, makedirs\n",
    "from os.path import splitext, isdir, exists\n",
    "import numpy as np\n",
    "import time\n",
    "import pandas as pd"
   ]
  },
  {
   "cell_type": "code",
   "execution_count": 26,
   "id": "0de4837c-be55-4256-9744-975f286e8f7c",
   "metadata": {},
   "outputs": [],
   "source": [
    "# b'\\x00\\x01\\xc4\\xb9\\xff\\xcb\\xfb\\xe4\\x00\\x83\\x0b'\n",
    "def unpacking_v2_format_hig(row):\n",
    " \n",
    "    list_values = []\n",
    "    index = (unpack('>I', bytes(row[0:4]))[0]) \n",
    "    acc_x = (unpack('>h', bytes(row[4:6]))[0]) / 1024\n",
    "    acc_y = (unpack('>h', bytes(row[6:8]))[0]) / 1024\n",
    "    acc_z = (unpack('>h', bytes(row[8:10]))[0]) / 1024\n",
    "\n",
    "    gyr_x = (unpack('>h', bytes(row[10:12]))[0]) / 1024\n",
    "    gyr_y = (unpack('>h', bytes(row[12:14]))[0]) / 1024\n",
    "    gyr_z = (unpack('>h', bytes(row[14:16]))[0]) / 1024\n",
    "\n",
    "    #index = (index / 6000)\n",
    "    #list_values.append(index)\n",
    "    acc_x = float(acc_x) \n",
    "    list_values.append(acc_x)\n",
    "    acc_y = acc_y \n",
    "    list_values.append(acc_y)\n",
    "    acc_z = acc_z \n",
    "    list_values.append(acc_z)\n",
    "    amag = round(sqrt(pow(acc_x, 2) + pow(acc_y, 2) + pow(acc_z, 2)),2)\n",
    "    list_values.append(amag)\n",
    "\n",
    "    list_values.append(gyr_x)\n",
    "    list_values.append(gyr_y)\n",
    "    list_values.append(gyr_z)\n",
    "    \n",
    "    return list_values\n",
    "\n",
    "def read_row(mm,hig=1):\n",
    "    count = 0\n",
    "    while True:\n",
    "        count += 1\n",
    "        if(hig==1):\n",
    "            row = mm.read(17) # packet length\n",
    "            if not len(row) == 17: \n",
    "                break \n",
    "        yield row \n",
    "\n",
    "def get_results_v2_format(hig_filename):\n",
    "    complete_results = []    \n",
    "    if hig_filename:\n",
    "        print(\"getting results for\", hig_filename)\n",
    "        with open(hig_filename,'rb') as file:\n",
    "            mm = mmap(file.fileno(), 0, access=ACCESS_READ)\n",
    "            results = [unpacking_v2_format_hig(row) for row in read_row(mm)]\n",
    "            complete_results.append(results)\n",
    "            mm.close()\n",
    "            file.close() \n",
    "        \n",
    "    print(\"completed conversion\",flush=True)\n",
    "    return complete_results"
   ]
  },
  {
   "cell_type": "code",
   "execution_count": 33,
   "id": "829541b8-df2c-46d4-a65e-4ef58b41d87c",
   "metadata": {},
   "outputs": [
    {
     "name": "stdout",
     "output_type": "stream",
     "text": [
      "getting results for ../data/TKA_data/op/OST-0010ser13190358.OST\n",
      "completed conversion\n",
      "[[-0.21484375, -0.9189453125, 0.314453125, 0.99, 0.1513671875, 0.03125, -0.4072265625], [-0.2158203125, -0.9296875, 0.296875, 1.0, 0.2138671875, -0.1259765625, -0.4609375], [-0.2177734375, -0.9248046875, 0.3056640625, 1.0, 0.2958984375, -0.044921875, -0.212890625], [-0.228515625, -0.953125, 0.306640625, 1.03, 0.390625, -0.11328125, -0.2978515625], [-0.2060546875, -0.9501953125, 0.3037109375, 1.02, 0.2138671875, 0.09375, -0.400390625], [-0.19921875, -0.9375, 0.302734375, 1.01, 0.220703125, -0.0126953125, -0.4609375], [-0.22265625, -0.9345703125, 0.2998046875, 1.01, 0.251953125, -0.0634765625, -0.2919921875], [-0.2138671875, -0.9248046875, 0.318359375, 1.0, -0.0556640625, -0.1328125, 0.296875], [-0.2158203125, -0.9462890625, 0.3037109375, 1.02, -0.14453125, -0.056640625, 0.3330078125], [-0.240234375, -0.9501953125, 0.2998046875, 1.02, 0.0634765625, -0.107421875, -0.103515625]]\n"
     ]
    }
   ],
   "source": [
    "#hig_filename = \"data/mc_5_reps_test_1.HIG\"\n",
    "#hig_filename = \"../data/TKA_data/op/OST-0010ser13190358.OST\"\n",
    "#hig_filename = \"data/mc_test_3_ml_60bpm.HIG\"\n",
    "#hig_filename = \"data/lc_vag_test_1_60bpm.HIG\"\n",
    "\n",
    "converted_data = get_results_v2_format(hig_filename)\n",
    "print(converted_data[0][0:10])"
   ]
  },
  {
   "cell_type": "code",
   "execution_count": 34,
   "id": "a56a09e3-08bd-4693-8526-34197c75199c",
   "metadata": {},
   "outputs": [
    {
     "name": "stdout",
     "output_type": "stream",
     "text": [
      "          x         y         z   mag     gyr_x     gyr_y     gyr_z\n",
      "0 -0.214844 -0.918945  0.314453  0.99  0.151367  0.031250 -0.407227\n",
      "1 -0.215820 -0.929688  0.296875  1.00  0.213867 -0.125977 -0.460938\n",
      "2 -0.217773 -0.924805  0.305664  1.00  0.295898 -0.044922 -0.212891\n",
      "3 -0.228516 -0.953125  0.306641  1.03  0.390625 -0.113281 -0.297852\n",
      "4 -0.206055 -0.950195  0.303711  1.02  0.213867  0.093750 -0.400391\n"
     ]
    }
   ],
   "source": [
    "# write to csv\n",
    "columns = ['x', 'y', 'z', 'mag', 'gyr_x', 'gyr_y', 'gyr_z']\n",
    "\n",
    "# Create the DataFrame\n",
    "df = pd.DataFrame(converted_data[0], columns=columns)\n",
    "print(df.head(5))\n",
    "\n",
    "df.to_csv(\"../data/TKA_data/op/tka_op_4.csv\", index=False)"
   ]
  },
  {
   "cell_type": "code",
   "execution_count": null,
   "id": "db433c71-240c-4de9-82ba-9b3e1abadf18",
   "metadata": {},
   "outputs": [],
   "source": []
  }
 ],
 "metadata": {
  "kernelspec": {
   "display_name": "Python 3 (ipykernel)",
   "language": "python",
   "name": "python3"
  },
  "language_info": {
   "codemirror_mode": {
    "name": "ipython",
    "version": 3
   },
   "file_extension": ".py",
   "mimetype": "text/x-python",
   "name": "python",
   "nbconvert_exporter": "python",
   "pygments_lexer": "ipython3",
   "version": "3.10.12"
  }
 },
 "nbformat": 4,
 "nbformat_minor": 5
}
