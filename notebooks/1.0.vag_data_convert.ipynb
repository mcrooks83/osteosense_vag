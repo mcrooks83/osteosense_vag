{
 "cells": [
  {
   "cell_type": "code",
   "execution_count": 1,
   "id": "802d64ea-eea8-4a64-8bc6-a41b5daab073",
   "metadata": {},
   "outputs": [],
   "source": [
    "### IMPORTS ###\n",
    "from mmap import mmap, ACCESS_READ\n",
    "from struct import unpack\n",
    "from math import sqrt\n",
    "from glob import glob \n",
    "from os import chdir, listdir, makedirs\n",
    "from os.path import splitext, isdir, exists\n",
    "import numpy as np\n",
    "import time\n",
    "import pandas as pd"
   ]
  },
  {
   "cell_type": "code",
   "execution_count": 9,
   "id": "0de4837c-be55-4256-9744-975f286e8f7c",
   "metadata": {},
   "outputs": [],
   "source": [
    "# b'\\x00\\x01\\xc4\\xb9\\xff\\xcb\\xfb\\xe4\\x00\\x83\\x0b'\n",
    "def unpacking_v2_format_hig(row):\n",
    " \n",
    "    list_values = []\n",
    "    index = (unpack('>I', bytes(row[0:4]))[0]) \n",
    "    acc_x = (unpack('>h', bytes(row[4:6]))[0]) / 1024\n",
    "    acc_y = (unpack('>h', bytes(row[6:8]))[0]) / 1024\n",
    "    acc_z = (unpack('>h', bytes(row[8:10]))[0]) / 1024\n",
    "\n",
    "    gyr_x = (unpack('>h', bytes(row[10:12]))[0]) / 1024\n",
    "    gyr_y = (unpack('>h', bytes(row[12:14]))[0]) / 1024\n",
    "    gyr_z = (unpack('>h', bytes(row[14:16]))[0]) / 1024\n",
    "\n",
    "    #index = (index / 6000)\n",
    "    #list_values.append(index)\n",
    "    acc_x = float(acc_x) \n",
    "    list_values.append(acc_x)\n",
    "    acc_y = acc_y \n",
    "    list_values.append(acc_y)\n",
    "    acc_z = acc_z \n",
    "    list_values.append(acc_z)\n",
    "    amag = round(sqrt(pow(acc_x, 2) + pow(acc_y, 2) + pow(acc_z, 2)),2)\n",
    "    list_values.append(amag)\n",
    "\n",
    "    list_values.append(gyr_x)\n",
    "    list_values.append(gyr_y)\n",
    "    list_values.append(gyr_z)\n",
    "    \n",
    "    return list_values\n",
    "\n",
    "def read_row(mm,hig=1):\n",
    "    count = 0\n",
    "    while True:\n",
    "        count += 1\n",
    "        if(hig==1):\n",
    "            row = mm.read(17) # packet length\n",
    "            if not len(row) == 17: \n",
    "                break \n",
    "        yield row \n",
    "\n",
    "def get_results_v2_format(hig_filename):\n",
    "    complete_results = []    \n",
    "    if hig_filename:\n",
    "        print(\"getting results for\", hig_filename)\n",
    "        with open(hig_filename,'rb') as file:\n",
    "            mm = mmap(file.fileno(), 0, access=ACCESS_READ)\n",
    "            results = [unpacking_v2_format_hig(row) for row in read_row(mm)]\n",
    "            complete_results.append(results)\n",
    "            mm.close()\n",
    "            file.close() \n",
    "        \n",
    "    print(\"completed conversion\",flush=True)\n",
    "    return complete_results"
   ]
  },
  {
   "cell_type": "code",
   "execution_count": 23,
   "id": "829541b8-df2c-46d4-a65e-4ef58b41d87c",
   "metadata": {},
   "outputs": [
    {
     "name": "stdout",
     "output_type": "stream",
     "text": [
      "getting results for ../data/TKA_data/un_op/OST-0010ser13185648.OST\n",
      "completed conversion\n",
      "[[-0.06640625, -0.9609375, 0.2861328125, 1.0, 0.2451171875, 0.0625, -0.2314453125], [-0.0703125, -0.9501953125, 0.2783203125, 0.99, 0.2138671875, 0.0, -0.4072265625], [-0.056640625, -0.9716796875, 0.2734375, 1.01, 0.1513671875, 0.0244140625, -0.4189453125], [-0.0712890625, -0.9755859375, 0.2705078125, 1.01, 0.2080078125, -0.0947265625, -0.4619140625], [-0.0810546875, -0.9638671875, 0.291015625, 1.01, 0.2578125, -0.076171875, -0.1884765625], [-0.0830078125, -0.9658203125, 0.2705078125, 1.01, 0.3525390625, 0.005859375, -0.4130859375], [-0.076171875, -0.970703125, 0.2802734375, 1.01, 0.1884765625, 0.0498046875, -0.4248046875], [-0.0791015625, -0.9794921875, 0.275390625, 1.02, 0.232421875, 0.0185546875, -0.498046875], [-0.06640625, -0.9697265625, 0.263671875, 1.01, 0.2138671875, -0.0634765625, -0.3037109375], [-0.0439453125, -0.9716796875, 0.263671875, 1.01, -0.0625, -0.0888671875, 0.3515625]]\n"
     ]
    }
   ],
   "source": [
    "#hig_filename = \"data/mc_5_reps_test_1.HIG\"\n",
    "hig_filename = \"../data/TKA_data/un_op/OST-0010ser13185648.OST\"\n",
    "#hig_filename = \"data/mc_test_3_ml_60bpm.HIG\"\n",
    "#hig_filename = \"data/lc_vag_test_1_60bpm.HIG\"\n",
    "\n",
    "converted_data = get_results_v2_format(hig_filename)\n",
    "print(converted_data[0][0:10])"
   ]
  },
  {
   "cell_type": "code",
   "execution_count": 24,
   "id": "a56a09e3-08bd-4693-8526-34197c75199c",
   "metadata": {},
   "outputs": [
    {
     "name": "stdout",
     "output_type": "stream",
     "text": [
      "          x         y         z   mag     gyr_x     gyr_y     gyr_z\n",
      "0 -0.066406 -0.960938  0.286133  1.00  0.245117  0.062500 -0.231445\n",
      "1 -0.070312 -0.950195  0.278320  0.99  0.213867  0.000000 -0.407227\n",
      "2 -0.056641 -0.971680  0.273438  1.01  0.151367  0.024414 -0.418945\n",
      "3 -0.071289 -0.975586  0.270508  1.01  0.208008 -0.094727 -0.461914\n",
      "4 -0.081055 -0.963867  0.291016  1.01  0.257812 -0.076172 -0.188477\n"
     ]
    }
   ],
   "source": [
    "# write to csv\n",
    "columns = ['x', 'y', 'z', 'mag', 'gyr_x', 'gyr_y', 'gyr_z']\n",
    "\n",
    "# Create the DataFrame\n",
    "df = pd.DataFrame(converted_data[0], columns=columns)\n",
    "print(df.head(5))\n",
    "\n",
    "df.to_csv(\"../data/TKA_data/un_op/tka_un_op_3.csv\", index=False)"
   ]
  },
  {
   "cell_type": "code",
   "execution_count": null,
   "id": "db433c71-240c-4de9-82ba-9b3e1abadf18",
   "metadata": {},
   "outputs": [],
   "source": []
  }
 ],
 "metadata": {
  "kernelspec": {
   "display_name": "Python 3 (ipykernel)",
   "language": "python",
   "name": "python3"
  },
  "language_info": {
   "codemirror_mode": {
    "name": "ipython",
    "version": 3
   },
   "file_extension": ".py",
   "mimetype": "text/x-python",
   "name": "python",
   "nbconvert_exporter": "python",
   "pygments_lexer": "ipython3",
   "version": "3.10.12"
  }
 },
 "nbformat": 4,
 "nbformat_minor": 5
}
