{
 "cells": [
  {
   "cell_type": "code",
   "execution_count": 10,
   "id": "802d64ea-eea8-4a64-8bc6-a41b5daab073",
   "metadata": {},
   "outputs": [],
   "source": [
    "### IMPORTS ###\n",
    "from mmap import mmap, ACCESS_READ\n",
    "from struct import unpack\n",
    "from math import sqrt\n",
    "from glob import glob \n",
    "from os import chdir, listdir, makedirs\n",
    "from os.path import splitext, isdir, exists\n",
    "import numpy as np\n",
    "import time\n",
    "import pandas as pd"
   ]
  },
  {
   "cell_type": "code",
   "execution_count": 13,
   "id": "0de4837c-be55-4256-9744-975f286e8f7c",
   "metadata": {},
   "outputs": [],
   "source": [
    "# b'\\x00\\x01\\xc4\\xb9\\xff\\xcb\\xfb\\xe4\\x00\\x83\\x0b'\n",
    "def unpacking_v2_format_hig(row):\n",
    " \n",
    "    list_values = []\n",
    "    #index = unpack('>I', bytes(row[0:4]))[0]\n",
    "    acc_x = (unpack('>h', bytes(row[4:6]))[0])  / 1024\n",
    "    acc_y = (unpack('>h', bytes(row[6:8]))[0])  / 1024\n",
    "    acc_z = (unpack('>h', bytes(row[8:10]))[0]) / 1024\n",
    "\n",
    "    #index = (index / 6000)\n",
    "    #list_values.append(index)\n",
    "    acc_x = float(acc_x)\n",
    "    list_values.append(acc_x) \n",
    "    acc_y = float(acc_y) \n",
    "    list_values.append(acc_y)\n",
    "    acc_z = float(acc_z)\n",
    "    list_values.append(acc_z)\n",
    "    amag = round(sqrt(pow(acc_x, 2) + pow(acc_y, 2) + pow(acc_z, 2)),2)\n",
    "    list_values.append(amag)\n",
    "    return list_values\n",
    "\n",
    "def read_row(mm,hig=1):\n",
    "    count = 0\n",
    "    while True:\n",
    "        count += 1\n",
    "        if(hig==1):\n",
    "            row = mm.read(11) # packet length\n",
    "            if not len(row) == 11: \n",
    "                break \n",
    "        yield row \n",
    "\n",
    "def get_results_v2_format(hig_filename):\n",
    "    complete_results = []    \n",
    "    if hig_filename:\n",
    "        print(\"getting results for\", hig_filename)\n",
    "        with open(hig_filename,'rb') as file:\n",
    "            mm = mmap(file.fileno(), 0, access=ACCESS_READ)\n",
    "            results = [unpacking_v2_format_hig(row) for row in read_row(mm)]\n",
    "            complete_results.append(results)\n",
    "            mm.close()\n",
    "            file.close() \n",
    "        \n",
    "    print(\"completed conversion\",flush=True)\n",
    "    return complete_results"
   ]
  },
  {
   "cell_type": "code",
   "execution_count": 14,
   "id": "829541b8-df2c-46d4-a65e-4ef58b41d87c",
   "metadata": {},
   "outputs": [
    {
     "name": "stdout",
     "output_type": "stream",
     "text": [
      "getting results for data/mc_test_2_60bpm.HIG\n",
      "completed conversion\n",
      "[[-0.087890625, -0.603515625, 0.2265625, 0.65], [-0.087890625, -0.6064453125, 0.2275390625, 0.65], [-0.0888671875, -0.611328125, 0.228515625, 0.66], [-0.0888671875, -0.6142578125, 0.2294921875, 0.66], [-0.0888671875, -0.6171875, 0.23046875, 0.66], [-0.08984375, -0.619140625, 0.2314453125, 0.67], [-0.08984375, -0.6220703125, 0.2333984375, 0.67], [-0.08984375, -0.6240234375, 0.234375, 0.67], [-0.08984375, -0.626953125, 0.234375, 0.68], [-0.0908203125, -0.6298828125, 0.2353515625, 0.68]]\n"
     ]
    }
   ],
   "source": [
    "#hig_filename = \"data/mc_5_reps_test_1.HIG\"\n",
    "hig_filename = \"data/mc_test_2_60bpm.HIG\"\n",
    "#hig_filename = \"data/mc_test_3_ml_60bpm.HIG\"\n",
    "#hig_filename = \"data/lc_vag_test_1_60bpm.HIG\"\n",
    "\n",
    "converted_data = get_results_v2_format(hig_filename)\n",
    "print(converted_data[0][0:10])"
   ]
  },
  {
   "cell_type": "code",
   "execution_count": 15,
   "id": "a56a09e3-08bd-4693-8526-34197c75199c",
   "metadata": {},
   "outputs": [
    {
     "name": "stdout",
     "output_type": "stream",
     "text": [
      "          x         y         z   mag\n",
      "0 -0.087891 -0.603516  0.226562  0.65\n",
      "1 -0.087891 -0.606445  0.227539  0.65\n",
      "2 -0.088867 -0.611328  0.228516  0.66\n",
      "3 -0.088867 -0.614258  0.229492  0.66\n",
      "4 -0.088867 -0.617188  0.230469  0.66\n"
     ]
    }
   ],
   "source": [
    "# write to csv\n",
    "columns = ['x', 'y', 'z', 'mag']\n",
    "\n",
    "# Create the DataFrame\n",
    "df = pd.DataFrame(converted_data[0], columns=columns)\n",
    "print(df.head(5))\n",
    "\n",
    "df.to_csv(\"mc_test_2_60bpm.csv\", index=False)"
   ]
  },
  {
   "cell_type": "code",
   "execution_count": null,
   "id": "db433c71-240c-4de9-82ba-9b3e1abadf18",
   "metadata": {},
   "outputs": [],
   "source": []
  }
 ],
 "metadata": {
  "kernelspec": {
   "display_name": "Python 3 (ipykernel)",
   "language": "python",
   "name": "python3"
  },
  "language_info": {
   "codemirror_mode": {
    "name": "ipython",
    "version": 3
   },
   "file_extension": ".py",
   "mimetype": "text/x-python",
   "name": "python",
   "nbconvert_exporter": "python",
   "pygments_lexer": "ipython3",
   "version": "3.10.12"
  }
 },
 "nbformat": 4,
 "nbformat_minor": 5
}
